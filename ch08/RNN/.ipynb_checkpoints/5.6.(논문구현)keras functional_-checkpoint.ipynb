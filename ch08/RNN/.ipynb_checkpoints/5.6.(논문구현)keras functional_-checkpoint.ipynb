{
 "cells": [
  {
   "cell_type": "code",
   "execution_count": 1,
   "metadata": {},
   "outputs": [],
   "source": [
    "import pandas as pd # 추가설치\n",
    "import pandas_datareader as pdr  # 추가설치\n",
    "import talib # 추가설치\n",
    "import matplotlib.pyplot as plt # 추가설치\n",
    "import numpy as np # 추가설치\n",
    "import scipy.stats as stats # 추가설치\n",
    "import math\n",
    "from sklearn.preprocessing import MinMaxScaler"
   ]
  },
  {
   "cell_type": "markdown",
   "metadata": {},
   "source": [
    "## DataLoad"
   ]
  },
  {
   "cell_type": "code",
   "execution_count": 2,
   "metadata": {},
   "outputs": [],
   "source": [
    "# data Load\n",
    "df = pd.read_csv('data/ch05/intc.csv',\n",
    "                 index_col='Date',\n",
    "                 parse_dates=True)\n",
    "sox_df = pd.read_csv('data/ch05/sox_df.csv',\n",
    "                     index_col='Date',\n",
    "                     parse_dates=True)\n",
    "vix_df = pd.read_csv('data/ch05/vix_df.csv',\n",
    "                     index_col='Date',\n",
    "                     parse_dates=True)\n",
    "snp500_df = pd.read_csv('data/ch05/s&p500.csv',\n",
    "                        index_col='Date',\n",
    "                        parse_dates=True)"
   ]
  },
  {
   "cell_type": "markdown",
   "metadata": {},
   "source": [
    "## Data Features"
   ]
  },
  {
   "cell_type": "code",
   "execution_count": 3,
   "metadata": {},
   "outputs": [],
   "source": [
    "# data Load\n",
    "# df = pd.read_csv('INTC.csv',index_col='Date',parse_dates=True)\n",
    "# feature engineering\n",
    "# df['LogRet'] = np.log(df['Adj Close'].pct_change())\n",
    "# https://stackoverflow.com/questions/31287552/logarithmic-returns-in-pandas-dataframe\n",
    "df['next_price'] = df['Adj Close'].shift(-1)\n",
    "df['log_return'] = np.log(1 + df['Adj Close'].pct_change())\n",
    "df['CCI'] = talib.CCI(df['High'], df['Low'], df['Adj Close'], timeperiod=14)\n",
    "\n",
    "#1.RA : Standard deviation rolling average\n",
    "# Moving Average\n",
    "df['MA5'] = talib.SMA(df['Close'],timeperiod=5)\n",
    "df['MA10'] = talib.SMA(df['Close'],timeperiod=10)\n",
    "df['RASD5'] = talib.SMA(talib.STDDEV(df['Close'], timeperiod=5, nbdev=1),timeperiod=5)\n",
    "df['RASD10'] = talib.SMA(talib.STDDEV(df['Close'], timeperiod=5, nbdev=1),timeperiod=10)\n",
    "# ra_std10 = talib.STDDEV(tmp_df['Close'], timeperiod=10, nbdev=1)\n",
    "#2.MACD : Moving Average Convergence/Divergence\n",
    "macd, macdsignal, macdhist = talib.MACD(df['Close'], fastperiod=12, slowperiod=26, signalperiod=9)\n",
    "# Momentum Indicators\n",
    "#3.CCI : Commodity Channel Index\n",
    "df['CCI'] = talib.CCI(df['High'], df['Low'], df['Close'], timeperiod=14)\n",
    "# Volatility Indicators \n",
    "#4.ATR : Average True Range\n",
    "df['ATR'] = talib.ATR(df['High'], df['Low'], df['Close'], timeperiod=14)\n",
    "#5.BOLL : Bollinger Band\n",
    "upper, middle, lower = talib.BBANDS(df['Close'],timeperiod=20,nbdevup=2,nbdevdn=2,matype=0)\n",
    "df['ub'] = upper\n",
    "df['middle'] = middle\n",
    "df['lb'] = lower\n",
    "\n",
    "macd, macdsignal, macdhist = talib.MACD(df['Close'], fastperiod=12, slowperiod=26, signalperiod=9)\n",
    "df['MACD'] = macd \n",
    "#7.MTM1 \n",
    "df['MTM1'] = talib.MOM(df['Close'], timeperiod=1)\n",
    "#7.MTM3\n",
    "df['MTM3'] = talib.MOM(df['Close'], timeperiod=3)\n",
    "#8.ROC : Rate of change : ((price/prevPrice)-1)*100\n",
    "df['ROC'] = talib.ROC(df['Close'], timeperiod=60)\n",
    "#9.WPR : william percent range (Williams' %R)\n",
    "df['WPR'] = talib.WILLR(df['High'], df['Low'], df['Close'], timeperiod=14)\n"
   ]
  },
  {
   "cell_type": "code",
   "execution_count": 4,
   "metadata": {},
   "outputs": [],
   "source": [
    "snp500_df = snp500_df.loc[:,['Close']].copy()\n",
    "snp500_df.rename(columns={'Close':'S&P500'},inplace=True)\n",
    "sox_df = sox_df.loc[:,['Close']].copy()\n",
    "sox_df.rename(columns={'Close':'SOX'},inplace=True)\n",
    "vix_df = vix_df.loc[:,['Close']].copy()\n",
    "vix_df.rename(columns={'Close':'VIX'},inplace=True)\n",
    "\n",
    "df = df.join(snp500_df,how='left')\n",
    "df = df.join(sox_df,how='left')\n",
    "df = df.join(vix_df,how='left')\n"
   ]
  },
  {
   "cell_type": "code",
   "execution_count": 5,
   "metadata": {},
   "outputs": [],
   "source": [
    "# feature list\n",
    "# feature_list = ['Adj Close', 'log_return', 'CCI','next_price']\n",
    "# 볼린저 밴드와 MACD를 어떻게 활용해야할까? 음. 아님 그냥 그대로 사용하는 건가?\n",
    "feature1_list = ['Open','High','Low','Adj Close','Volume','log_return']\n",
    "feature2_list = ['RASD5','RASD10','ub','lb','CCI','ATR','MACD','MA5','MA10','MTM1','MTM3','ROC','WPR']\n",
    "feature3_list = ['S&P500', 'SOX', 'VIX']\n",
    "feature4_list = ['next_price']\n",
    "all_features = feature1_list + feature2_list + feature3_list + feature4_list\n",
    "# all_features = feature1_list + feature2_list + feature3_list"
   ]
  },
  {
   "cell_type": "markdown",
   "metadata": {},
   "source": [
    "### Phase 1"
   ]
  },
  {
   "cell_type": "code",
   "execution_count": 50,
   "metadata": {},
   "outputs": [
    {
     "data": {
      "text/html": [
       "<div>\n",
       "<style scoped>\n",
       "    .dataframe tbody tr th:only-of-type {\n",
       "        vertical-align: middle;\n",
       "    }\n",
       "\n",
       "    .dataframe tbody tr th {\n",
       "        vertical-align: top;\n",
       "    }\n",
       "\n",
       "    .dataframe thead th {\n",
       "        text-align: right;\n",
       "    }\n",
       "</style>\n",
       "<table border=\"1\" class=\"dataframe\">\n",
       "  <thead>\n",
       "    <tr style=\"text-align: right;\">\n",
       "      <th></th>\n",
       "      <th>High</th>\n",
       "      <th>Low</th>\n",
       "      <th>Open</th>\n",
       "      <th>Close</th>\n",
       "      <th>Volume</th>\n",
       "      <th>Adj Close</th>\n",
       "      <th>next_price</th>\n",
       "      <th>log_return</th>\n",
       "      <th>CCI</th>\n",
       "      <th>MA5</th>\n",
       "      <th>...</th>\n",
       "      <th>middle</th>\n",
       "      <th>lb</th>\n",
       "      <th>MACD</th>\n",
       "      <th>MTM1</th>\n",
       "      <th>MTM3</th>\n",
       "      <th>ROC</th>\n",
       "      <th>WPR</th>\n",
       "      <th>S&amp;P500</th>\n",
       "      <th>SOX</th>\n",
       "      <th>VIX</th>\n",
       "    </tr>\n",
       "    <tr>\n",
       "      <th>Date</th>\n",
       "      <th></th>\n",
       "      <th></th>\n",
       "      <th></th>\n",
       "      <th></th>\n",
       "      <th></th>\n",
       "      <th></th>\n",
       "      <th></th>\n",
       "      <th></th>\n",
       "      <th></th>\n",
       "      <th></th>\n",
       "      <th></th>\n",
       "      <th></th>\n",
       "      <th></th>\n",
       "      <th></th>\n",
       "      <th></th>\n",
       "      <th></th>\n",
       "      <th></th>\n",
       "      <th></th>\n",
       "      <th></th>\n",
       "      <th></th>\n",
       "      <th></th>\n",
       "    </tr>\n",
       "  </thead>\n",
       "  <tbody>\n",
       "    <tr>\n",
       "      <th>1999-12-31</th>\n",
       "      <td>41.9375</td>\n",
       "      <td>40.96875</td>\n",
       "      <td>41.906250</td>\n",
       "      <td>41.15625</td>\n",
       "      <td>11572000.0</td>\n",
       "      <td>26.504349</td>\n",
       "      <td>28.013699</td>\n",
       "      <td>NaN</td>\n",
       "      <td>NaN</td>\n",
       "      <td>NaN</td>\n",
       "      <td>...</td>\n",
       "      <td>NaN</td>\n",
       "      <td>NaN</td>\n",
       "      <td>NaN</td>\n",
       "      <td>NaN</td>\n",
       "      <td>NaN</td>\n",
       "      <td>NaN</td>\n",
       "      <td>NaN</td>\n",
       "      <td>1469.250000</td>\n",
       "      <td>704.559998</td>\n",
       "      <td>24.639999</td>\n",
       "    </tr>\n",
       "    <tr>\n",
       "      <th>2000-01-03</th>\n",
       "      <td>43.6875</td>\n",
       "      <td>41.62500</td>\n",
       "      <td>41.632812</td>\n",
       "      <td>43.50000</td>\n",
       "      <td>57710200.0</td>\n",
       "      <td>28.013699</td>\n",
       "      <td>26.705585</td>\n",
       "      <td>0.055385</td>\n",
       "      <td>NaN</td>\n",
       "      <td>NaN</td>\n",
       "      <td>...</td>\n",
       "      <td>NaN</td>\n",
       "      <td>NaN</td>\n",
       "      <td>NaN</td>\n",
       "      <td>2.34375</td>\n",
       "      <td>NaN</td>\n",
       "      <td>NaN</td>\n",
       "      <td>NaN</td>\n",
       "      <td>1455.219971</td>\n",
       "      <td>713.200012</td>\n",
       "      <td>24.209999</td>\n",
       "    </tr>\n",
       "    <tr>\n",
       "      <th>2000-01-04</th>\n",
       "      <td>43.9375</td>\n",
       "      <td>41.12500</td>\n",
       "      <td>42.718750</td>\n",
       "      <td>41.46875</td>\n",
       "      <td>51019600.0</td>\n",
       "      <td>26.705585</td>\n",
       "      <td>26.926966</td>\n",
       "      <td>-0.047821</td>\n",
       "      <td>NaN</td>\n",
       "      <td>NaN</td>\n",
       "      <td>...</td>\n",
       "      <td>NaN</td>\n",
       "      <td>NaN</td>\n",
       "      <td>NaN</td>\n",
       "      <td>-2.03125</td>\n",
       "      <td>NaN</td>\n",
       "      <td>NaN</td>\n",
       "      <td>NaN</td>\n",
       "      <td>1399.420044</td>\n",
       "      <td>687.320007</td>\n",
       "      <td>27.010000</td>\n",
       "    </tr>\n",
       "    <tr>\n",
       "      <th>2000-01-05</th>\n",
       "      <td>42.9375</td>\n",
       "      <td>40.25000</td>\n",
       "      <td>41.500000</td>\n",
       "      <td>41.81250</td>\n",
       "      <td>52389000.0</td>\n",
       "      <td>26.926966</td>\n",
       "      <td>25.357227</td>\n",
       "      <td>0.008255</td>\n",
       "      <td>NaN</td>\n",
       "      <td>NaN</td>\n",
       "      <td>...</td>\n",
       "      <td>NaN</td>\n",
       "      <td>NaN</td>\n",
       "      <td>NaN</td>\n",
       "      <td>0.34375</td>\n",
       "      <td>0.65625</td>\n",
       "      <td>NaN</td>\n",
       "      <td>NaN</td>\n",
       "      <td>1402.109985</td>\n",
       "      <td>678.539978</td>\n",
       "      <td>26.410000</td>\n",
       "    </tr>\n",
       "    <tr>\n",
       "      <th>2000-01-06</th>\n",
       "      <td>41.6875</td>\n",
       "      <td>39.09375</td>\n",
       "      <td>40.875000</td>\n",
       "      <td>39.37500</td>\n",
       "      <td>55171200.0</td>\n",
       "      <td>25.357227</td>\n",
       "      <td>26.403713</td>\n",
       "      <td>-0.060064</td>\n",
       "      <td>NaN</td>\n",
       "      <td>41.4625</td>\n",
       "      <td>...</td>\n",
       "      <td>NaN</td>\n",
       "      <td>NaN</td>\n",
       "      <td>NaN</td>\n",
       "      <td>-2.43750</td>\n",
       "      <td>-4.12500</td>\n",
       "      <td>NaN</td>\n",
       "      <td>NaN</td>\n",
       "      <td>1403.449951</td>\n",
       "      <td>669.330017</td>\n",
       "      <td>25.730000</td>\n",
       "    </tr>\n",
       "  </tbody>\n",
       "</table>\n",
       "<p>5 rows × 25 columns</p>\n",
       "</div>"
      ],
      "text/plain": [
       "               High       Low       Open     Close      Volume  Adj Close  \\\n",
       "Date                                                                        \n",
       "1999-12-31  41.9375  40.96875  41.906250  41.15625  11572000.0  26.504349   \n",
       "2000-01-03  43.6875  41.62500  41.632812  43.50000  57710200.0  28.013699   \n",
       "2000-01-04  43.9375  41.12500  42.718750  41.46875  51019600.0  26.705585   \n",
       "2000-01-05  42.9375  40.25000  41.500000  41.81250  52389000.0  26.926966   \n",
       "2000-01-06  41.6875  39.09375  40.875000  39.37500  55171200.0  25.357227   \n",
       "\n",
       "            next_price  log_return  CCI      MA5  ...  middle  lb  MACD  \\\n",
       "Date                                              ...                     \n",
       "1999-12-31   28.013699         NaN  NaN      NaN  ...     NaN NaN   NaN   \n",
       "2000-01-03   26.705585    0.055385  NaN      NaN  ...     NaN NaN   NaN   \n",
       "2000-01-04   26.926966   -0.047821  NaN      NaN  ...     NaN NaN   NaN   \n",
       "2000-01-05   25.357227    0.008255  NaN      NaN  ...     NaN NaN   NaN   \n",
       "2000-01-06   26.403713   -0.060064  NaN  41.4625  ...     NaN NaN   NaN   \n",
       "\n",
       "               MTM1     MTM3  ROC  WPR       S&P500         SOX        VIX  \n",
       "Date                                                                        \n",
       "1999-12-31      NaN      NaN  NaN  NaN  1469.250000  704.559998  24.639999  \n",
       "2000-01-03  2.34375      NaN  NaN  NaN  1455.219971  713.200012  24.209999  \n",
       "2000-01-04 -2.03125      NaN  NaN  NaN  1399.420044  687.320007  27.010000  \n",
       "2000-01-05  0.34375  0.65625  NaN  NaN  1402.109985  678.539978  26.410000  \n",
       "2000-01-06 -2.43750 -4.12500  NaN  NaN  1403.449951  669.330017  25.730000  \n",
       "\n",
       "[5 rows x 25 columns]"
      ]
     },
     "execution_count": 50,
     "metadata": {},
     "output_type": "execute_result"
    }
   ],
   "source": [
    "df.head()"
   ]
  },
  {
   "cell_type": "code",
   "execution_count": 49,
   "metadata": {},
   "outputs": [
    {
     "data": {
      "text/plain": [
       "Index(['High', 'Low', 'Open', 'Close', 'Volume', 'Adj Close', 'next_price',\n",
       "       'log_return', 'CCI', 'MA5', 'MA10', 'RASD5', 'RASD10', 'ATR', 'ub',\n",
       "       'middle', 'lb', 'MACD', 'MTM1', 'MTM3', 'ROC', 'WPR', 'S&P500', 'SOX',\n",
       "       'VIX'],\n",
       "      dtype='object')"
      ]
     },
     "execution_count": 49,
     "metadata": {},
     "output_type": "execute_result"
    }
   ],
   "source": [
    "df.columns"
   ]
  },
  {
   "cell_type": "code",
   "execution_count": 72,
   "metadata": {},
   "outputs": [],
   "source": [
    "# #1 train / validation / testing\n",
    "train_from = '2010-01-04'\n",
    "train_to = '2012-01-01'\n",
    "\n",
    "val_from = '2012-01-01'\n",
    "val_to = '2012-04-01'\n",
    "\n",
    "test_from = '2012-04-01'\n",
    "test_to = '2012-07-01'\n",
    "\n",
    "# for train\n",
    "train_df  = df.loc[train_from:train_to,all_features].copy()\n",
    "val_df = df.loc[val_from:val_to,all_features].copy()\n",
    "test_df   = df.loc[test_from:test_to,all_features].copy()"
   ]
  },
  {
   "cell_type": "markdown",
   "metadata": {},
   "source": [
    "### Phase 2"
   ]
  },
  {
   "cell_type": "code",
   "execution_count": 51,
   "metadata": {},
   "outputs": [],
   "source": [
    "# #2 train / validation / testing\n",
    "train_from = '2012-07-01'\n",
    "train_to = '2014-07-01'\n",
    "\n",
    "val_from = '2014-07-01'\n",
    "val_to = '2014-10-01'\n",
    "\n",
    "test_from = '2014-10-01'\n",
    "test_to = '2015-01-01'\n",
    "\n",
    "# for train\n",
    "train_df  = df.loc[train_from:train_to,all_features].copy()\n",
    "val_df = df.loc[val_from:val_to,all_features].copy()\n",
    "test_df   = df.loc[test_from:test_to,all_features].copy()"
   ]
  },
  {
   "cell_type": "markdown",
   "metadata": {},
   "source": [
    "### Phase 3"
   ]
  },
  {
   "cell_type": "code",
   "execution_count": 8,
   "metadata": {},
   "outputs": [],
   "source": [
    "# #3 train / validation / testing\n",
    "train_from = '2015-01-01'\n",
    "train_to = '2017-01-01'\n",
    "\n",
    "val_from = '2017-01-01'\n",
    "val_to = '2017-04-01'\n",
    "\n",
    "test_from = '2017-04-01'\n",
    "test_to = '2017-07-01'\n",
    "\n",
    "# for train\n",
    "train_df  = df.loc[train_from:train_to,all_features].copy()\n",
    "val_df = df.loc[val_from:val_to,all_features].copy()\n",
    "test_df   = df.loc[test_from:test_to,all_features].copy()"
   ]
  },
  {
   "cell_type": "code",
   "execution_count": 9,
   "metadata": {},
   "outputs": [
    {
     "data": {
      "text/plain": [
       "63"
      ]
     },
     "execution_count": 9,
     "metadata": {},
     "output_type": "execute_result"
    }
   ],
   "source": [
    "len(test_df)"
   ]
  },
  {
   "cell_type": "markdown",
   "metadata": {},
   "source": [
    "### MinMax Scaling\n",
    "'''\n",
    "컬럼코드별 순회하면서 min_max해줌. for 돌려도 될듯하다.\n",
    "Close value min-max normalization\n",
    "'''"
   ]
  },
  {
   "cell_type": "markdown",
   "metadata": {},
   "source": [
    "### train data sampling\n",
    "### Test data sampling\n",
    "### valid data sampling"
   ]
  },
  {
   "cell_type": "code",
   "execution_count": 10,
   "metadata": {},
   "outputs": [],
   "source": [
    "# eng_fea_list = feature1_list + feature2_list + feature3_list"
   ]
  },
  {
   "cell_type": "code",
   "execution_count": 73,
   "metadata": {},
   "outputs": [
    {
     "name": "stdout",
     "output_type": "stream",
     "text": [
      "columns : Open , Min: 17.879999, Max: 25.450001\n",
      "columns : High , Min: 17.920000, Max: 25.780001\n",
      "columns : Low , Min: 17.600000, Max: 25.129999\n",
      "columns : Adj Close , Min: 13.266715, Max: 20.104307\n",
      "columns : Volume , Min: 15743700.000000, Max: 199002600.000000\n",
      "columns : log_return , Min: -0.045652, Max: 0.075151\n",
      "columns : RASD5 , Min: 0.069063, Max: 0.767183\n",
      "columns : RASD10 , Min: 0.088655, Max: 0.599747\n",
      "columns : ub , Min: 19.087398, Max: 26.104759\n",
      "columns : lb , Min: 17.355771, Max: 23.586411\n",
      "columns : CCI , Min: -246.845255, Max: 369.899116\n",
      "columns : ATR , Min: 0.259481, Max: 0.809260\n",
      "columns : MACD , Min: -0.715018, Max: 0.869203\n",
      "columns : MA5 , Min: 18.064000, Max: 25.148000\n",
      "columns : MA10 , Min: 18.084000, Max: 24.779000\n",
      "columns : MTM1 , Min: -1.010000, Max: 1.549999\n",
      "columns : MTM3 , Min: -1.750000, Max: 2.180000\n",
      "columns : ROC , Min: -16.643738, Max: 30.753360\n",
      "columns : WPR , Min: -99.644120, Max: -0.000000\n",
      "columns : S&P500 , Min: 1022.580017, Max: 1363.609985\n",
      "columns : SOX , Min: 307.489990, Max: 473.220001\n",
      "columns : VIX , Min: 14.620000, Max: 48.000000\n",
      "columns : next_price , Min: 13.266715, Max: 20.104307\n"
     ]
    }
   ],
   "source": [
    "eng_list = []\n",
    "train_sample_df = train_df.copy()\n",
    "for x in all_features:\n",
    "    series = train_sample_df[x].copy()\n",
    "    values = series.values\n",
    "    values = values.reshape((len(values), 1))\n",
    "    # train the normalization\n",
    "    scaler = MinMaxScaler(feature_range=(0, 1))\n",
    "    scaler = scaler.fit(values)\n",
    "    print('columns : %s , Min: %f, Max: %f' % (x, scaler.data_min_, scaler.data_max_))\n",
    "    # normalize the dataset and print\n",
    "    normalized = scaler.transform(values)\n",
    "    new_feature = '{}_normal'.format(x)\n",
    "    eng_list.append(new_feature)\n",
    "    train_sample_df[new_feature] = normalized"
   ]
  },
  {
   "cell_type": "code",
   "execution_count": 74,
   "metadata": {},
   "outputs": [
    {
     "name": "stdout",
     "output_type": "stream",
     "text": [
      "columns : Open , Min: 25.040001, Max: 29.260000\n",
      "columns : High , Min: 25.360001, Max: 29.270000\n",
      "columns : Low , Min: 24.840000, Max: 28.719999\n",
      "columns : Adj Close , Min: 19.918661, Max: 23.044872\n",
      "columns : Volume , Min: 19122200.000000, Max: 100360700.000000\n",
      "columns : log_return , Min: -0.034226, Max: 0.031253\n",
      "columns : RASD5 , Min: 0.162135, Max: 0.488163\n",
      "columns : RASD10 , Min: 0.125468, Max: 0.431386\n",
      "columns : ub , Min: 26.786225, Max: 29.438522\n",
      "columns : lb , Min: 24.704155, Max: 27.527568\n",
      "columns : CCI , Min: -161.900695, Max: 179.279715\n",
      "columns : ATR , Min: 0.397946, Max: 0.594328\n",
      "columns : MACD , Min: -0.609970, Max: 0.372583\n",
      "columns : MA5 , Min: 25.504000, Max: 28.694000\n",
      "columns : MA10 , Min: 25.653000, Max: 28.258000\n",
      "columns : MTM1 , Min: -0.930000, Max: 0.820000\n",
      "columns : MTM3 , Min: -1.590000, Max: 1.070000\n",
      "columns : ROC , Min: -8.110995, Max: 13.738013\n",
      "columns : WPR , Min: -100.000000, Max: -3.603601\n",
      "columns : S&P500 , Min: 1278.040039, Max: 1419.040039\n",
      "columns : SOX , Min: 352.690002, Max: 438.440002\n",
      "columns : VIX , Min: 15.640000, Max: 26.660000\n",
      "columns : next_price , Min: 19.918661, Max: 23.044872\n"
     ]
    }
   ],
   "source": [
    "# 컬럼코드별 순회하면서 min_max해줌. for 돌려도 될듯하다.\n",
    "# Close value min-max normalization\n",
    "test_sample_df = test_df.copy()\n",
    "eng_list = []\n",
    "for x in all_features:\n",
    "    series = test_sample_df[x].copy()\n",
    "    values = series.values\n",
    "    values = values.reshape((len(values), 1))\n",
    "    # train the normalization\n",
    "    scaler = MinMaxScaler(feature_range=(0, 1))\n",
    "    scaler = scaler.fit(values)\n",
    "    print('columns : %s , Min: %f, Max: %f' % (x, scaler.data_min_, scaler.data_max_))\n",
    "    # normalize the dataset and print\n",
    "    normalized = scaler.transform(values)\n",
    "    new_feature = '{}_normal'.format(x)\n",
    "    eng_list.append(new_feature)\n",
    "    test_sample_df[new_feature] = normalized"
   ]
  },
  {
   "cell_type": "code",
   "execution_count": 75,
   "metadata": {},
   "outputs": [
    {
     "name": "stdout",
     "output_type": "stream",
     "text": [
      "columns : Open , Min: 24.570000, Max: 28.389999\n",
      "columns : High , Min: 24.889999, Max: 28.450001\n",
      "columns : Low , Min: 24.389999, Max: 28.070000\n",
      "columns : Adj Close , Min: 19.226799, Max: 22.263021\n",
      "columns : Volume , Min: 22212900.000000, Max: 101272500.000000\n",
      "columns : log_return , Min: -0.023974, Max: 0.028842\n",
      "columns : RASD5 , Min: 0.077904, Max: 0.488690\n",
      "columns : RASD10 , Min: 0.097865, Max: 0.369243\n",
      "columns : ub , Min: 25.567904, Max: 28.582699\n",
      "columns : lb , Min: 22.689563, Max: 26.507301\n",
      "columns : CCI , Min: -127.006373, Max: 288.547428\n",
      "columns : ATR , Min: 0.375838, Max: 0.573539\n",
      "columns : MACD , Min: 0.079694, Max: 0.632337\n",
      "columns : MA5 , Min: 24.426000, Max: 28.092000\n",
      "columns : MA10 , Min: 24.117000, Max: 27.951000\n",
      "columns : MTM1 , Min: -0.610001, Max: 0.750000\n",
      "columns : MTM3 , Min: -0.759998, Max: 1.339998\n",
      "columns : ROC , Min: 3.300335, Max: 20.043286\n",
      "columns : WPR , Min: -83.478209, Max: -0.769249\n",
      "columns : S&P500 , Min: 1277.060059, Max: 1416.510010\n",
      "columns : SOX , Min: 368.600006, Max: 441.880005\n",
      "columns : VIX , Min: 14.260000, Max: 22.969999\n",
      "columns : next_price , Min: 19.618538, Max: 22.413071\n"
     ]
    }
   ],
   "source": [
    "# 컬럼코드별 순회하면서 min_max해줌. for 돌려도 될듯하다.\n",
    "# Close value min-max normalization\n",
    "\n",
    "val_sample_df = val_df.copy()\n",
    "eng_list = []\n",
    "for x in all_features:\n",
    "    series = val_sample_df[x].copy()\n",
    "    values = series.values\n",
    "    values = values.reshape((len(values), 1))\n",
    "    # train the normalization\n",
    "    scaler = MinMaxScaler(feature_range=(0, 1))\n",
    "    scaler = scaler.fit(values)\n",
    "    print('columns : %s , Min: %f, Max: %f' % (x, scaler.data_min_, scaler.data_max_))\n",
    "    # normalize the dataset and print\n",
    "    normalized = scaler.transform(values)\n",
    "    new_feature = '{}_normal'.format(x)\n",
    "    eng_list.append(new_feature)\n",
    "    val_sample_df[new_feature] = normalized"
   ]
  },
  {
   "cell_type": "markdown",
   "metadata": {},
   "source": [
    "### LSTM Model 훈련데이터 구분하기"
   ]
  },
  {
   "cell_type": "code",
   "execution_count": 76,
   "metadata": {},
   "outputs": [],
   "source": [
    "num_step = 5\n",
    "num_unit = 200"
   ]
  },
  {
   "cell_type": "code",
   "execution_count": 77,
   "metadata": {},
   "outputs": [],
   "source": [
    "# step = 2, n = 3 이라면,\n",
    "# data = [[1,2,3], [4,5,6], [7,8,9], [10,11,12], ...]\n",
    "# x batch = [[[1,2,3], [4,5,6]], [[7,8,9], [10,11,12]], ...]\n",
    "# y batch = [[4], [7], [10], [13], ...]    \n",
    "\n",
    "def create_dateset(data, feature_list, step, n):\n",
    "    \n",
    "    train_xdata = np.array(data[feature_list[0:n]])\n",
    "    \n",
    "    # 가장 뒤 n step을 제외하기 위해. 왜냐하면 학습 input으로는 어차피 10개만 주려고 하니깐.\n",
    "    m = np.arange(len(train_xdata) - step)\n",
    "    #     np.random.shuffle(m)  # shufflee은 빼자.\n",
    "    x, y = [], []\n",
    "    for i in m:\n",
    "        a = train_xdata[i:(i+step)]\n",
    "        x.append(a)\n",
    "    x_batch = np.reshape(np.array(x), (len(m), step, n))\n",
    "    \n",
    "#     print(feature_list[n])\n",
    "    train_ydata = np.array(data[[feature_list[n]]])\n",
    "    # n step 이상부터 답을 사용할 수 있는거니깐. \n",
    "    for i in m + step :\n",
    "        a = train_ydata[i][0]\n",
    "        y.append(a)\n",
    "    y_batch = np.reshape(np.array(y), (-1,1))\n",
    "    return x_batch, y_batch"
   ]
  },
  {
   "cell_type": "code",
   "execution_count": 78,
   "metadata": {},
   "outputs": [],
   "source": [
    "n_feature = len(eng_list)-1\n",
    "# LSTM할때 사용했던 소스코드.\n",
    "x_train, y_train = create_dateset(train_sample_df[eng_list], eng_list, num_step, n_feature)\n",
    "x_val, y_val = create_dateset(val_sample_df[eng_list], eng_list, num_step, n_feature)\n",
    "x_test, y_test = create_dateset(test_sample_df[eng_list], eng_list, num_step, n_feature)"
   ]
  },
  {
   "cell_type": "code",
   "execution_count": 79,
   "metadata": {},
   "outputs": [
    {
     "data": {
      "text/plain": [
       "23"
      ]
     },
     "execution_count": 79,
     "metadata": {},
     "output_type": "execute_result"
    }
   ],
   "source": [
    "len(eng_list)"
   ]
  },
  {
   "cell_type": "code",
   "execution_count": 80,
   "metadata": {},
   "outputs": [
    {
     "data": {
      "text/plain": [
       "(63, 46)"
      ]
     },
     "execution_count": 80,
     "metadata": {},
     "output_type": "execute_result"
    }
   ],
   "source": [
    "test_sample_df.shape"
   ]
  },
  {
   "cell_type": "code",
   "execution_count": 81,
   "metadata": {},
   "outputs": [
    {
     "data": {
      "text/plain": [
       "(58, 5, 22)"
      ]
     },
     "execution_count": 81,
     "metadata": {},
     "output_type": "execute_result"
    }
   ],
   "source": [
    "x_test.shape"
   ]
  },
  {
   "cell_type": "code",
   "execution_count": 82,
   "metadata": {},
   "outputs": [
    {
     "data": {
      "text/plain": [
       "(58, 1)"
      ]
     },
     "execution_count": 82,
     "metadata": {},
     "output_type": "execute_result"
    }
   ],
   "source": [
    "y_test.shape"
   ]
  },
  {
   "cell_type": "markdown",
   "metadata": {},
   "source": [
    "### 모델을 수정해보자 Keras로 "
   ]
  },
  {
   "cell_type": "code",
   "execution_count": 83,
   "metadata": {},
   "outputs": [
    {
     "data": {
      "text/plain": [
       "(499, 5, 22)"
      ]
     },
     "execution_count": 83,
     "metadata": {},
     "output_type": "execute_result"
    }
   ],
   "source": [
    "x_train.shape"
   ]
  },
  {
   "cell_type": "code",
   "execution_count": 84,
   "metadata": {},
   "outputs": [
    {
     "data": {
      "text/plain": [
       "(5, 22)"
      ]
     },
     "execution_count": 84,
     "metadata": {},
     "output_type": "execute_result"
    }
   ],
   "source": [
    "x_train[0].shape"
   ]
  },
  {
   "cell_type": "code",
   "execution_count": 85,
   "metadata": {},
   "outputs": [
    {
     "data": {
      "text/plain": [
       "5"
      ]
     },
     "execution_count": 85,
     "metadata": {},
     "output_type": "execute_result"
    }
   ],
   "source": [
    "x_train.shape[1]\n",
    "# 이것은 전체 데이터를 242 rolling , 10 window, 2개 feature를 본다는 것이다.\n",
    "# 2개 feature를 10개 묶음으로 보는데, 1칸씩 미루면서 보니 242개 데이터를 본다는 것이다."
   ]
  },
  {
   "cell_type": "code",
   "execution_count": 86,
   "metadata": {},
   "outputs": [],
   "source": [
    "# from tensorflow.keras.models import Sequential\n",
    "from tensorflow.keras.models import Model\n",
    "from tensorflow.keras.models import load_model\n",
    "from tensorflow.keras.layers import Input, Dense, LSTM, Bidirectional\n",
    "from tensorflow.keras.layers import Activation, BatchNormalization\n",
    "from tensorflow.keras import backend as K\n",
    "from tensorflow.keras import regularizers"
   ]
  },
  {
   "cell_type": "code",
   "execution_count": 87,
   "metadata": {},
   "outputs": [],
   "source": [
    "# LSTM 모델을 생성한다.\n",
    "K.clear_session()\n",
    "input_layer = Input(batch_shape=(None, x_train.shape[1], x_train.shape[2]))\n",
    "layer_lstm_1 = LSTM(num_unit, return_sequences = True, recurrent_regularizer = regularizers.l2(0.01))(input_layer)\n",
    "layer_lstm_2 = LSTM(num_unit, return_sequences = True, recurrent_regularizer = regularizers.l2(0.01))(layer_lstm_1)\n",
    "layer_lstm_3 = LSTM(num_unit, return_sequences = True, recurrent_regularizer = regularizers.l2(0.01))(layer_lstm_2)\n",
    "layer_lstm_4 = LSTM(num_unit, return_sequences = True, recurrent_regularizer = regularizers.l2(0.01))(layer_lstm_3)\n",
    "layer_lstm_5 = LSTM(num_unit , recurrent_regularizer = regularizers.l2(0.01))(layer_lstm_4)\n",
    "output_layer = Dense(1)(layer_lstm_5)\n",
    "\n",
    "model = Model(input_layer, output_layer)\n",
    "model.compile(loss='mse',optimizer='adam', metrics=['accuracy'])"
   ]
  },
  {
   "cell_type": "code",
   "execution_count": 33,
   "metadata": {},
   "outputs": [],
   "source": [
    "# with batch normalization LSTM 모델을 생성한다.\n",
    "K.clear_session()\n",
    "xInput = Input(batch_shape=(None, xtrainBatch.shape[1], xtrainBatch.shape[2]))\n",
    "#  x = tf.placeholder(tf.float32, [None, nStep, nInput])와 같은거같다.\n",
    "xLstm_1 = LSTM(nNeuron, return_sequences = True, recurrent_regularizer = regularizers.l2(0.01))(xInput)\n",
    "# rnn = tf.nn.rnn_cell.LSTMCell(nNeuron)\n",
    "xLstm_1 = BatchNormalization()(xLstm_1)\n",
    "xLstm_2 = LSTM(nNeuron, return_sequences = True, recurrent_regularizer = regularizers.l2(0.01))(xLstm_1)\n",
    "xLstm_2 = BatchNormalization()(xLstm_2)\n",
    "xLstm_3 = LSTM(nNeuron, return_sequences = True, recurrent_regularizer = regularizers.l2(0.01))(xLstm_2)\n",
    "xLstm_3 = BatchNormalization()(xLstm_3)\n",
    "xLstm_4 = LSTM(nNeuron, return_sequences = True, recurrent_regularizer = regularizers.l2(0.01))(xLstm_3)\n",
    "xLstm_4 = BatchNormalization()(xLstm_4)\n",
    "xLstm_5 = LSTM(nNeuron , recurrent_regularizer = regularizers.l2(0.01))(xLstm_4)\n",
    "xOutput = Dense(1)(xLstm_5)\n",
    "\n",
    "model = Model(xInput, xOutput)\n",
    "model.compile(loss='mse',optimizer='adam', metrics=['accuracy'])"
   ]
  },
  {
   "cell_type": "code",
   "execution_count": 28,
   "metadata": {},
   "outputs": [],
   "source": [
    "# # Regularization\n",
    "# K.clear_session()\n",
    "# model = Sequential()\n",
    "# model.add(LSTM(nNeuron,\n",
    "#                return_sequences=True, \n",
    "#                input_shape = (xtrainBatch.shape[1], xtrainBatch.shape[2]),\n",
    "#                recurrent_regularizer = regularizers.l2(0.01)\n",
    "          \n",
    "#          ))\n",
    "# model.add(BatchNormalization())\n",
    "\n",
    "# model.add(LSTM(nNeuron, return_sequences = True,\n",
    "#               recurrent_regularizer = regularizers.l2(0.01)))\n",
    "# model.add(BatchNormalization())\n",
    "\n",
    "# model.add(LSTM(nNeuron, return_sequences = True,\n",
    "#               recurrent_regularizer = regularizers.l2(0.01)))\n",
    "# model.add(BatchNormalization())\n",
    "\n",
    "# model.add(LSTM(nNeuron, return_sequences = True,\n",
    "#               recurrent_regularizer = regularizers.l2(0.01)))\n",
    "# model.add(BatchNormalization())\n",
    "\n",
    "# model.add(LSTM(nNeuron))\n",
    "# model.add(BatchNormalization())\n",
    "\n",
    "# model.add(Dense(1))\n",
    "\n",
    "# model.compile(loss='mse', optimizer='adam')"
   ]
  },
  {
   "cell_type": "code",
   "execution_count": 88,
   "metadata": {},
   "outputs": [
    {
     "name": "stdout",
     "output_type": "stream",
     "text": [
      "Model: \"model\"\n",
      "_________________________________________________________________\n",
      "Layer (type)                 Output Shape              Param #   \n",
      "=================================================================\n",
      "input_1 (InputLayer)         [(None, 5, 22)]           0         \n",
      "_________________________________________________________________\n",
      "lstm (LSTM)                  (None, 5, 200)            178400    \n",
      "_________________________________________________________________\n",
      "lstm_1 (LSTM)                (None, 5, 200)            320800    \n",
      "_________________________________________________________________\n",
      "lstm_2 (LSTM)                (None, 5, 200)            320800    \n",
      "_________________________________________________________________\n",
      "lstm_3 (LSTM)                (None, 5, 200)            320800    \n",
      "_________________________________________________________________\n",
      "lstm_4 (LSTM)                (None, 200)               320800    \n",
      "_________________________________________________________________\n",
      "dense (Dense)                (None, 1)                 201       \n",
      "=================================================================\n",
      "Total params: 1,461,801\n",
      "Trainable params: 1,461,801\n",
      "Non-trainable params: 0\n",
      "_________________________________________________________________\n",
      "None\n"
     ]
    }
   ],
   "source": [
    "print(model.summary()) # 이건 functional & non batch normalization"
   ]
  },
  {
   "cell_type": "code",
   "execution_count": 34,
   "metadata": {},
   "outputs": [
    {
     "name": "stdout",
     "output_type": "stream",
     "text": [
      "Model: \"model\"\n",
      "_________________________________________________________________\n",
      "Layer (type)                 Output Shape              Param #   \n",
      "=================================================================\n",
      "input_1 (InputLayer)         [(None, 10, 16)]          0         \n",
      "_________________________________________________________________\n",
      "lstm (LSTM)                  (None, 10, 200)           173600    \n",
      "_________________________________________________________________\n",
      "batch_normalization (BatchNo (None, 10, 200)           800       \n",
      "_________________________________________________________________\n",
      "lstm_1 (LSTM)                (None, 10, 200)           320800    \n",
      "_________________________________________________________________\n",
      "batch_normalization_1 (Batch (None, 10, 200)           800       \n",
      "_________________________________________________________________\n",
      "lstm_2 (LSTM)                (None, 10, 200)           320800    \n",
      "_________________________________________________________________\n",
      "batch_normalization_2 (Batch (None, 10, 200)           800       \n",
      "_________________________________________________________________\n",
      "lstm_3 (LSTM)                (None, 10, 200)           320800    \n",
      "_________________________________________________________________\n",
      "batch_normalization_3 (Batch (None, 10, 200)           800       \n",
      "_________________________________________________________________\n",
      "lstm_4 (LSTM)                (None, 200)               320800    \n",
      "_________________________________________________________________\n",
      "dense (Dense)                (None, 1)                 201       \n",
      "=================================================================\n",
      "Total params: 1,460,201\n",
      "Trainable params: 1,458,601\n",
      "Non-trainable params: 1,600\n",
      "_________________________________________________________________\n",
      "None\n"
     ]
    }
   ],
   "source": [
    "print(model.summary()) # 이건 functional & batch normalization"
   ]
  },
  {
   "cell_type": "code",
   "execution_count": 24,
   "metadata": {},
   "outputs": [
    {
     "name": "stdout",
     "output_type": "stream",
     "text": [
      "Model: \"sequential\"\n",
      "_________________________________________________________________\n",
      "Layer (type)                 Output Shape              Param #   \n",
      "=================================================================\n",
      "lstm (LSTM)                  (None, 10, 200)           173600    \n",
      "_________________________________________________________________\n",
      "batch_normalization (BatchNo (None, 10, 200)           800       \n",
      "_________________________________________________________________\n",
      "lstm_1 (LSTM)                (None, 10, 200)           320800    \n",
      "_________________________________________________________________\n",
      "batch_normalization_1 (Batch (None, 10, 200)           800       \n",
      "_________________________________________________________________\n",
      "lstm_2 (LSTM)                (None, 10, 200)           320800    \n",
      "_________________________________________________________________\n",
      "batch_normalization_2 (Batch (None, 10, 200)           800       \n",
      "_________________________________________________________________\n",
      "lstm_3 (LSTM)                (None, 10, 200)           320800    \n",
      "_________________________________________________________________\n",
      "batch_normalization_3 (Batch (None, 10, 200)           800       \n",
      "_________________________________________________________________\n",
      "lstm_4 (LSTM)                (None, 200)               320800    \n",
      "_________________________________________________________________\n",
      "batch_normalization_4 (Batch (None, 200)               800       \n",
      "_________________________________________________________________\n",
      "dense (Dense)                (None, 1)                 201       \n",
      "=================================================================\n",
      "Total params: 1,461,001\n",
      "Trainable params: 1,459,001\n",
      "Non-trainable params: 2,000\n",
      "_________________________________________________________________\n",
      "None\n"
     ]
    }
   ],
   "source": [
    "print(model.summary())  # 이건 sequential & batch normalization"
   ]
  },
  {
   "cell_type": "markdown",
   "metadata": {},
   "source": [
    "https://ratsgo.github.io/natural%20language%20processing/2017/03/09/rnnlstm/\n",
    "이 말인 즉슨 LSTM이 자체 gate 별 활성화 함수를 갖고있다."
   ]
  },
  {
   "cell_type": "code",
   "execution_count": 89,
   "metadata": {},
   "outputs": [
    {
     "name": "stdout",
     "output_type": "stream",
     "text": [
      "Train on 499 samples, validate on 57 samples\n",
      "Epoch 1/20\n",
      "499/499 [==============================] - 12s 25ms/sample - loss: 3.9273 - acc: 0.0040 - val_loss: 0.8866 - val_acc: 0.0351\n",
      "Epoch 2/20\n",
      "499/499 [==============================] - 6s 12ms/sample - loss: 0.3516 - acc: 0.0040 - val_loss: 0.1086 - val_acc: 0.0351\n",
      "Epoch 3/20\n",
      "499/499 [==============================] - 7s 14ms/sample - loss: 0.0444 - acc: 0.0040 - val_loss: 0.0362 - val_acc: 0.0351\n",
      "Epoch 4/20\n",
      "499/499 [==============================] - 8s 15ms/sample - loss: 0.0129 - acc: 0.0040 - val_loss: 0.0214 - val_acc: 0.0351\n",
      "Epoch 5/20\n",
      "499/499 [==============================] - 7s 14ms/sample - loss: 0.0084 - acc: 0.0040 - val_loss: 0.0302 - val_acc: 0.0351\n",
      "Epoch 6/20\n",
      "499/499 [==============================] - 6s 12ms/sample - loss: 0.0080 - acc: 0.0040 - val_loss: 0.0148 - val_acc: 0.0351\n",
      "Epoch 7/20\n",
      "499/499 [==============================] - 6s 11ms/sample - loss: 0.0074 - acc: 0.0040 - val_loss: 0.0157 - val_acc: 0.0351\n",
      "Epoch 8/20\n",
      "499/499 [==============================] - 5s 11ms/sample - loss: 0.0076 - acc: 0.0040 - val_loss: 0.0147 - val_acc: 0.0351\n",
      "Epoch 9/20\n",
      "499/499 [==============================] - 6s 11ms/sample - loss: 0.0069 - acc: 0.0040 - val_loss: 0.0155 - val_acc: 0.0351\n",
      "Epoch 10/20\n",
      "499/499 [==============================] - 6s 12ms/sample - loss: 0.0111 - acc: 0.0040 - val_loss: 0.0169 - val_acc: 0.0351\n",
      "Epoch 11/20\n",
      "499/499 [==============================] - 6s 12ms/sample - loss: 0.0067 - acc: 0.0040 - val_loss: 0.0173 - val_acc: 0.0351\n",
      "Epoch 12/20\n",
      "499/499 [==============================] - 5s 11ms/sample - loss: 0.0061 - acc: 0.0040 - val_loss: 0.0145 - val_acc: 0.0351\n",
      "Epoch 13/20\n",
      "499/499 [==============================] - 6s 12ms/sample - loss: 0.0076 - acc: 0.0040 - val_loss: 0.0148 - val_acc: 0.0351\n",
      "Epoch 14/20\n",
      "499/499 [==============================] - 5s 11ms/sample - loss: 0.0069 - acc: 0.0040 - val_loss: 0.0156 - val_acc: 0.0351\n",
      "Epoch 15/20\n",
      "499/499 [==============================] - 6s 11ms/sample - loss: 0.0080 - acc: 0.0040 - val_loss: 0.0172 - val_acc: 0.0351\n",
      "Epoch 16/20\n",
      "499/499 [==============================] - 6s 12ms/sample - loss: 0.0066 - acc: 0.0040 - val_loss: 0.0166 - val_acc: 0.0351\n",
      "Epoch 17/20\n",
      "499/499 [==============================] - 8s 16ms/sample - loss: 0.0063 - acc: 0.0040 - val_loss: 0.0161 - val_acc: 0.0351\n",
      "Epoch 18/20\n",
      "499/499 [==============================] - 7s 13ms/sample - loss: 0.0067 - acc: 0.0040 - val_loss: 0.0165 - val_acc: 0.0351\n",
      "Epoch 19/20\n",
      "499/499 [==============================] - 7s 14ms/sample - loss: 0.0061 - acc: 0.0040 - val_loss: 0.0204 - val_acc: 0.0351\n",
      "Epoch 20/20\n",
      "499/499 [==============================] - 8s 17ms/sample - loss: 0.0071 - acc: 0.0040 - val_loss: 0.0161 - val_acc: 0.0351\n"
     ]
    }
   ],
   "source": [
    "history = model.fit(x_train,y_train,epochs=20, batch_size=10,validation_data=(x_val, y_val))"
   ]
  },
  {
   "cell_type": "code",
   "execution_count": 90,
   "metadata": {},
   "outputs": [],
   "source": [
    "model.save('model_functional_step1')"
   ]
  },
  {
   "cell_type": "code",
   "execution_count": 46,
   "metadata": {},
   "outputs": [],
   "source": [
    "model_loaded = load_model('model_functional')"
   ]
  },
  {
   "cell_type": "code",
   "execution_count": 91,
   "metadata": {},
   "outputs": [
    {
     "name": "stdout",
     "output_type": "stream",
     "text": [
      "58\n",
      "58\n"
     ]
    }
   ],
   "source": [
    "# 예측.\n",
    "y_hat = model.predict(x_test, batch_size = 1)\n",
    "print(len(y_test))\n",
    "print(len(y_hat))"
   ]
  },
  {
   "cell_type": "code",
   "execution_count": 92,
   "metadata": {},
   "outputs": [
    {
     "data": {
      "image/png": "[encoded data removed]",
      "text/plain": [
       "<Figure size 432x288 with 1 Axes>"
      ]
     },
     "metadata": {
      "needs_background": "light"
     },
     "output_type": "display_data"
    }
   ],
   "source": [
    "# 아래는 step을 5일단위로 줬으 때\n",
    "# 원 시계열과 예측된 시계열을 그린다 # 종가를 예측한다\n",
    "plt.plot(y_test, 'b-o', color='blue', markersize=4, label='Stock price', linewidth=1)\n",
    "plt.plot(y_hat, 'b-o', color='red', markersize=4, label='Estimate')\n",
    "plt.legend()\n",
    "plt.title(\"INTC step1 prediction\")\n",
    "plt.show()"
   ]
  },
  {
   "cell_type": "code",
   "execution_count": 71,
   "metadata": {},
   "outputs": [
    {
     "data": {
      "image/png": "[encoded data removed]",
      "text/plain": [
       "<Figure size 432x288 with 1 Axes>"
      ]
     },
     "metadata": {
      "needs_background": "light"
     },
     "output_type": "display_data"
    }
   ],
   "source": [
    "# 아래는 step을 5일단위로 줬으 때\n",
    "# 원 시계열과 예측된 시계열을 그린다 # 종가를 예측한다\n",
    "plt.plot(y_test, 'b-o', color='blue', markersize=4, label='Stock price', linewidth=1)\n",
    "plt.plot(y_hat, 'b-o', color='red', markersize=4, label='Estimate')\n",
    "plt.legend()\n",
    "plt.title(\"INTC step2 prediction\")\n",
    "plt.show()"
   ]
  },
  {
   "cell_type": "code",
   "execution_count": 48,
   "metadata": {},
   "outputs": [
    {
     "data": {
      "image/png": "[encoded data removed]",
      "text/plain": [
       "<Figure size 432x288 with 1 Axes>"
      ]
     },
     "metadata": {
      "needs_background": "light"
     },
     "output_type": "display_data"
    }
   ],
   "source": [
    "# 아래는 step을 5일단위로 줬으 때\n",
    "# 원 시계열과 예측된 시계열을 그린다 # 종가를 예측한다\n",
    "plt.plot(y_test, 'b-o', color='blue', markersize=4, label='Stock price', linewidth=1)\n",
    "plt.plot(y_hat, 'b-o', color='red', markersize=4, label='Estimate')\n",
    "plt.legend()\n",
    "plt.title(\"INTC step3 prediction\")\n",
    "plt.show()"
   ]
  },
  {
   "cell_type": "code",
   "execution_count": 30,
   "metadata": {},
   "outputs": [
    {
     "data": {
      "image/png": "[encoded data removed]",
      "text/plain": [
       "<Figure size 432x288 with 1 Axes>"
      ]
     },
     "metadata": {
      "needs_background": "light"
     },
     "output_type": "display_data"
    }
   ],
   "source": [
    "# 아래는 step을 10일단위로 줬으 때\n",
    "# 원 시계열과 예측된 시계열을 그린다 # 종가를 예측한다\n",
    "plt.plot(y_test, 'b-o', color='blue', markersize=4, label='Stock price', linewidth=1)\n",
    "plt.plot(y_hat, 'b-o', color='red', markersize=4, label='Estimate')\n",
    "plt.legend()\n",
    "plt.title(\"INTC prediction\")\n",
    "plt.show()"
   ]
  },
  {
   "cell_type": "code",
   "execution_count": 58,
   "metadata": {},
   "outputs": [
    {
     "data": {
      "image/png": "[encoded data removed]",
      "text/plain": [
       "<Figure size 432x288 with 1 Axes>"
      ]
     },
     "metadata": {
      "needs_background": "light"
     },
     "output_type": "display_data"
    }
   ],
   "source": [
    "# 원 시계열과 예측된 시계열을 그린다 # 종가를 예측한다\n",
    "plt.plot(y_test, 'b-o', color='blue', markersize=4, label='Stock price', linewidth=1)\n",
    "plt.plot(y_hat, 'b-o', color='red', markersize=4, label='Estimate')\n",
    "plt.legend()\n",
    "plt.title(\"INTC prediction\")\n",
    "plt.show()"
   ]
  },
  {
   "cell_type": "code",
   "execution_count": 93,
   "metadata": {},
   "outputs": [],
   "source": [
    "def r_squared(y_true, y_hat):\n",
    "    '''\n",
    "    주어진 모델이 얼마나 설명력이 있는지 확인해보자. \n",
    "    '''\n",
    "    ssr = 0\n",
    "    sst = 0\n",
    "    e = np.subtract(y_true, y_hat)\n",
    "    y_mean = np.mean(y_true)\n",
    "    for item in e:\n",
    "        ssr += item**2\n",
    "    for item in y_true:\n",
    "        sst += (item - y_mean)**2\n",
    "    r2 = 1 - ssr / sst\n",
    "    return r2"
   ]
  },
  {
   "cell_type": "code",
   "execution_count": 94,
   "metadata": {},
   "outputs": [],
   "source": [
    "result = r_squared(y_test , y_hat)"
   ]
  },
  {
   "cell_type": "code",
   "execution_count": 96,
   "metadata": {},
   "outputs": [
    {
     "name": "stdout",
     "output_type": "stream",
     "text": [
      "[0.03451457]\n"
     ]
    }
   ],
   "source": [
    "print(result)"
   ]
  },
  {
   "cell_type": "code",
   "execution_count": 57,
   "metadata": {},
   "outputs": [
    {
     "data": {
      "image/png": "[encoded data removed]",
      "text/plain": [
       "<Figure size 1152x648 with 1 Axes>"
      ]
     },
     "metadata": {
      "needs_background": "light"
     },
     "output_type": "display_data"
    }
   ],
   "source": [
    "# 원 시계열과 예측된 시계열을 그린다 # 종가를 예측한다\n",
    "# estimate_history = np.array(estimate_history)\n",
    "# ax1 = np.arange(1, len(lastData[:, CLOSE])+1)  # 이게 조금 궁금하네.\n",
    "# ax2 = np.arange(11,len(estimate_history)+11)   # 이게 조금 궁금하네.\n",
    "ax1= np.arange(1,len(y_test)+1)\n",
    "ax2= np.arange(1,len(y_hat)+1)\n",
    "plt.figure(figsize=(16, 9))\n",
    "plt.plot(ax1, y_test, 'b-o', color='blue', markersize=4, label='Stock price', linewidth=1)\n",
    "plt.plot(ax2, y_hat, 'b-o', color='red', markersize=4, label='Estimate')\n",
    "plt.legend()\n",
    "plt.title(\"INTC prediction\")\n",
    "plt.show()"
   ]
  },
  {
   "cell_type": "code",
   "execution_count": 22,
   "metadata": {},
   "outputs": [
    {
     "name": "stdout",
     "output_type": "stream",
     "text": [
      "53\n",
      "53\n"
     ]
    },
    {
     "data": {
      "image/png": "[encoded data removed]",
      "text/plain": [
       "<Figure size 1152x648 with 1 Axes>"
      ]
     },
     "metadata": {
      "needs_background": "light"
     },
     "output_type": "display_data"
    }
   ],
   "source": [
    "# 예측.\n",
    "y_hat = model.predict(xtestBatch,batch_size = 1)\n",
    "print(len(ytestBatch))\n",
    "print(len(y_hat))\n",
    "# 원 시계열과 예측된 시계열을 그린다\n",
    "CLOSE = 0       # 종가를 예측한다\n",
    "# estimate_history = np.array(estimate_history)\n",
    "# ax1 = np.arange(1, len(lastData[:, CLOSE])+1)  # 이게 조금 궁금하네.\n",
    "# ax2 = np.arange(11,len(estimate_history)+11)   # 이게 조금 궁금하네.\n",
    "ax1= np.arange(1,len(ytestBatch)+1)\n",
    "ax2= np.arange(1,len(y_hat)+1)\n",
    "\n",
    "plt.figure(figsize=(16, 9))\n",
    "plt.plot(ax1, ytestBatch, 'b-o', color='blue', markersize=4, label='Stock price', linewidth=1)\n",
    "plt.plot(ax2, y_hat, 'b-o', color='red', markersize=4, label='Estimate')\n",
    "plt.axvline(x=ax1[-1],  linestyle='dashed', linewidth=1)\n",
    "plt.legend()\n",
    "# model.save('model_500_non_L2.lstm') 으로 돌렸을 때.\n",
    "plt.title(\"INTC prediction\")\n",
    "plt.show()"
   ]
  },
  {
   "cell_type": "code",
   "execution_count": 27,
   "metadata": {},
   "outputs": [
    {
     "name": "stdout",
     "output_type": "stream",
     "text": [
      "53\n",
      "53\n"
     ]
    },
    {
     "data": {
      "image/png": "[encoded data removed]",
      "text/plain": [
       "<Figure size 1152x648 with 1 Axes>"
      ]
     },
     "metadata": {
      "needs_background": "light"
     },
     "output_type": "display_data"
    }
   ],
   "source": [
    "# 예측.\n",
    "y_hat = model.predict(xtestBatch,batch_size = 1)\n",
    "print(len(ytestBatch))\n",
    "print(len(y_hat))\n",
    "# 원 시계열과 예측된 시계열을 그린다\n",
    "CLOSE = 0       # 종가를 예측한다\n",
    "# estimate_history = np.array(estimate_history)\n",
    "# ax1 = np.arange(1, len(lastData[:, CLOSE])+1)  # 이게 조금 궁금하네.\n",
    "# ax2 = np.arange(11,len(estimate_history)+11)   # 이게 조금 궁금하네.\n",
    "ax1= np.arange(1,len(ytestBatch)+1)\n",
    "ax2= np.arange(1,len(y_hat)+1)\n",
    "\n",
    "plt.figure(figsize=(16, 9))\n",
    "plt.plot(ax1, ytestBatch, 'b-o', color='blue', markersize=4, label='Stock price', linewidth=1)\n",
    "plt.plot(ax2, y_hat, 'b-o', color='red', markersize=4, label='Estimate')\n",
    "plt.axvline(x=ax1[-1],  linestyle='dashed', linewidth=1)\n",
    "plt.legend()\n",
    "# model.save('model_500_non_L2.lstm') 으로 돌렸을 때.\n",
    "plt.title(\"INTC prediction\")\n",
    "plt.show()"
   ]
  },
  {
   "cell_type": "code",
   "execution_count": 31,
   "metadata": {},
   "outputs": [
    {
     "data": {
      "text/html": [
       "<div>\n",
       "<style scoped>\n",
       "    .dataframe tbody tr th:only-of-type {\n",
       "        vertical-align: middle;\n",
       "    }\n",
       "\n",
       "    .dataframe tbody tr th {\n",
       "        vertical-align: top;\n",
       "    }\n",
       "\n",
       "    .dataframe thead th {\n",
       "        text-align: right;\n",
       "    }\n",
       "</style>\n",
       "<table border=\"1\" class=\"dataframe\">\n",
       "  <thead>\n",
       "    <tr style=\"text-align: right;\">\n",
       "      <th></th>\n",
       "      <th>Open</th>\n",
       "      <th>High</th>\n",
       "      <th>Low</th>\n",
       "      <th>Adj Close</th>\n",
       "      <th>RA5</th>\n",
       "      <th>CCI</th>\n",
       "      <th>ATR</th>\n",
       "      <th>MA5</th>\n",
       "      <th>MA10</th>\n",
       "      <th>MTM1</th>\n",
       "      <th>...</th>\n",
       "      <th>MA5_normal</th>\n",
       "      <th>MA10_normal</th>\n",
       "      <th>MTM1_normal</th>\n",
       "      <th>MTM3_normal</th>\n",
       "      <th>ROC_normal</th>\n",
       "      <th>WPR_normal</th>\n",
       "      <th>S&amp;P500_normal</th>\n",
       "      <th>SOX_normal</th>\n",
       "      <th>VIX_normal</th>\n",
       "      <th>next_price_normal</th>\n",
       "    </tr>\n",
       "    <tr>\n",
       "      <th>Date</th>\n",
       "      <th></th>\n",
       "      <th></th>\n",
       "      <th></th>\n",
       "      <th></th>\n",
       "      <th></th>\n",
       "      <th></th>\n",
       "      <th></th>\n",
       "      <th></th>\n",
       "      <th></th>\n",
       "      <th></th>\n",
       "      <th></th>\n",
       "      <th></th>\n",
       "      <th></th>\n",
       "      <th></th>\n",
       "      <th></th>\n",
       "      <th></th>\n",
       "      <th></th>\n",
       "      <th></th>\n",
       "      <th></th>\n",
       "      <th></th>\n",
       "      <th></th>\n",
       "    </tr>\n",
       "  </thead>\n",
       "  <tbody>\n",
       "    <tr>\n",
       "      <th>2017-04-03</th>\n",
       "      <td>36.189999</td>\n",
       "      <td>36.740002</td>\n",
       "      <td>36.119999</td>\n",
       "      <td>33.705460</td>\n",
       "      <td>0.197595</td>\n",
       "      <td>219.406574</td>\n",
       "      <td>0.495198</td>\n",
       "      <td>35.830000</td>\n",
       "      <td>35.538000</td>\n",
       "      <td>0.090000</td>\n",
       "      <td>...</td>\n",
       "      <td>0.658940</td>\n",
       "      <td>0.500000</td>\n",
       "      <td>0.706186</td>\n",
       "      <td>0.874372</td>\n",
       "      <td>0.734490</td>\n",
       "      <td>0.741099</td>\n",
       "      <td>0.240062</td>\n",
       "      <td>0.256901</td>\n",
       "      <td>0.423510</td>\n",
       "      <td>0.690949</td>\n",
       "    </tr>\n",
       "    <tr>\n",
       "      <th>2017-04-04</th>\n",
       "      <td>36.119999</td>\n",
       "      <td>36.380001</td>\n",
       "      <td>35.990002</td>\n",
       "      <td>33.817307</td>\n",
       "      <td>0.221336</td>\n",
       "      <td>146.091491</td>\n",
       "      <td>0.487684</td>\n",
       "      <td>35.966000</td>\n",
       "      <td>35.662000</td>\n",
       "      <td>0.119999</td>\n",
       "      <td>...</td>\n",
       "      <td>0.703973</td>\n",
       "      <td>0.548896</td>\n",
       "      <td>0.721649</td>\n",
       "      <td>0.844220</td>\n",
       "      <td>0.865705</td>\n",
       "      <td>0.767917</td>\n",
       "      <td>0.250662</td>\n",
       "      <td>0.227053</td>\n",
       "      <td>0.328502</td>\n",
       "      <td>0.674828</td>\n",
       "    </tr>\n",
       "    <tr>\n",
       "      <th>2017-04-05</th>\n",
       "      <td>36.430000</td>\n",
       "      <td>36.759998</td>\n",
       "      <td>36.169998</td>\n",
       "      <td>33.761391</td>\n",
       "      <td>0.224736</td>\n",
       "      <td>138.783503</td>\n",
       "      <td>0.494992</td>\n",
       "      <td>36.096000</td>\n",
       "      <td>35.747000</td>\n",
       "      <td>-0.059998</td>\n",
       "      <td>...</td>\n",
       "      <td>0.747020</td>\n",
       "      <td>0.582413</td>\n",
       "      <td>0.628867</td>\n",
       "      <td>0.653267</td>\n",
       "      <td>0.764913</td>\n",
       "      <td>0.725474</td>\n",
       "      <td>0.192756</td>\n",
       "      <td>0.188061</td>\n",
       "      <td>0.505636</td>\n",
       "      <td>0.623767</td>\n",
       "    </tr>\n",
       "    <tr>\n",
       "      <th>2017-04-06</th>\n",
       "      <td>36.130001</td>\n",
       "      <td>36.279999</td>\n",
       "      <td>36.029999</td>\n",
       "      <td>33.584286</td>\n",
       "      <td>0.202725</td>\n",
       "      <td>74.448254</td>\n",
       "      <td>0.477493</td>\n",
       "      <td>36.152000</td>\n",
       "      <td>35.823000</td>\n",
       "      <td>-0.190002</td>\n",
       "      <td>...</td>\n",
       "      <td>0.765563</td>\n",
       "      <td>0.612381</td>\n",
       "      <td>0.561854</td>\n",
       "      <td>0.512562</td>\n",
       "      <td>0.742869</td>\n",
       "      <td>0.617785</td>\n",
       "      <td>0.229219</td>\n",
       "      <td>0.194569</td>\n",
       "      <td>0.425121</td>\n",
       "      <td>0.623767</td>\n",
       "    </tr>\n",
       "    <tr>\n",
       "      <th>2017-04-07</th>\n",
       "      <td>36.070000</td>\n",
       "      <td>36.320000</td>\n",
       "      <td>35.990002</td>\n",
       "      <td>33.584286</td>\n",
       "      <td>0.177264</td>\n",
       "      <td>63.460243</td>\n",
       "      <td>0.466957</td>\n",
       "      <td>36.143999</td>\n",
       "      <td>35.909999</td>\n",
       "      <td>0.000000</td>\n",
       "      <td>...</td>\n",
       "      <td>0.762914</td>\n",
       "      <td>0.646687</td>\n",
       "      <td>0.659794</td>\n",
       "      <td>0.452261</td>\n",
       "      <td>0.771234</td>\n",
       "      <td>0.617785</td>\n",
       "      <td>0.213558</td>\n",
       "      <td>0.220713</td>\n",
       "      <td>0.502415</td>\n",
       "      <td>0.561957</td>\n",
       "    </tr>\n",
       "  </tbody>\n",
       "</table>\n",
       "<p>5 rows × 34 columns</p>\n",
       "</div>"
      ],
      "text/plain": [
       "                 Open       High        Low  Adj Close       RA5         CCI  \\\n",
       "Date                                                                           \n",
       "2017-04-03  36.189999  36.740002  36.119999  33.705460  0.197595  219.406574   \n",
       "2017-04-04  36.119999  36.380001  35.990002  33.817307  0.221336  146.091491   \n",
       "2017-04-05  36.430000  36.759998  36.169998  33.761391  0.224736  138.783503   \n",
       "2017-04-06  36.130001  36.279999  36.029999  33.584286  0.202725   74.448254   \n",
       "2017-04-07  36.070000  36.320000  35.990002  33.584286  0.177264   63.460243   \n",
       "\n",
       "                 ATR        MA5       MA10      MTM1  ...  MA5_normal  \\\n",
       "Date                                                  ...               \n",
       "2017-04-03  0.495198  35.830000  35.538000  0.090000  ...    0.658940   \n",
       "2017-04-04  0.487684  35.966000  35.662000  0.119999  ...    0.703973   \n",
       "2017-04-05  0.494992  36.096000  35.747000 -0.059998  ...    0.747020   \n",
       "2017-04-06  0.477493  36.152000  35.823000 -0.190002  ...    0.765563   \n",
       "2017-04-07  0.466957  36.143999  35.909999  0.000000  ...    0.762914   \n",
       "\n",
       "            MA10_normal  MTM1_normal  MTM3_normal  ROC_normal  WPR_normal  \\\n",
       "Date                                                                        \n",
       "2017-04-03     0.500000     0.706186     0.874372    0.734490    0.741099   \n",
       "2017-04-04     0.548896     0.721649     0.844220    0.865705    0.767917   \n",
       "2017-04-05     0.582413     0.628867     0.653267    0.764913    0.725474   \n",
       "2017-04-06     0.612381     0.561854     0.512562    0.742869    0.617785   \n",
       "2017-04-07     0.646687     0.659794     0.452261    0.771234    0.617785   \n",
       "\n",
       "            S&P500_normal  SOX_normal  VIX_normal  next_price_normal  \n",
       "Date                                                                  \n",
       "2017-04-03       0.240062    0.256901    0.423510           0.690949  \n",
       "2017-04-04       0.250662    0.227053    0.328502           0.674828  \n",
       "2017-04-05       0.192756    0.188061    0.505636           0.623767  \n",
       "2017-04-06       0.229219    0.194569    0.425121           0.623767  \n",
       "2017-04-07       0.213558    0.220713    0.502415           0.561957  \n",
       "\n",
       "[5 rows x 34 columns]"
      ]
     },
     "execution_count": 31,
     "metadata": {},
     "output_type": "execute_result"
    }
   ],
   "source": [
    "# 11번째 line 이니깐.\n",
    "test_sample_df.head()"
   ]
  },
  {
   "cell_type": "markdown",
   "metadata": {},
   "source": [
    "### LSTM 수익률 벡테스팅 하기."
   ]
  },
  {
   "cell_type": "code",
   "execution_count": 34,
   "metadata": {},
   "outputs": [],
   "source": [
    "lstm_book_df = test_sample_df[['Adj Close']].copy()"
   ]
  },
  {
   "cell_type": "code",
   "execution_count": 35,
   "metadata": {},
   "outputs": [],
   "source": [
    "position = []\n",
    "for i in range(len(ytestBatch)):\n",
    "    if ytestBatch[i] < y_hat[i]:\n",
    "        position.append(1)\n",
    "    else :\n",
    "        position.append(0)"
   ]
  },
  {
   "cell_type": "code",
   "execution_count": 38,
   "metadata": {},
   "outputs": [],
   "source": [
    "### 이 문제에 있어서 Series와 DataFrame의 차이는 뭐지?\n",
    "t1 = pd.DataFrame(data = position,columns=['position'],index = lstm_book_df.index[10:])\n",
    "lstm_book_df = lstm_book_df.join(t1,how='left')\n",
    "lstm_book_df.fillna(0,inplace=True)"
   ]
  },
  {
   "cell_type": "code",
   "execution_count": 39,
   "metadata": {},
   "outputs": [
    {
     "data": {
      "text/plain": [
       "<matplotlib.axes._subplots.AxesSubplot at 0x254ee76d128>"
      ]
     },
     "execution_count": 39,
     "metadata": {},
     "output_type": "execute_result"
    },
    {
     "data": {
      "image/png": "[encoded data removed]",
      "text/plain": [
       "<Figure size 432x288 with 1 Axes>"
      ]
     },
     "metadata": {
      "needs_background": "light"
     },
     "output_type": "display_data"
    }
   ],
   "source": [
    "lstm_book_df['ret'] = lstm_book_df['Adj Close'].pct_change()\n",
    "lstm_book_df['lstm_ret'] = lstm_book_df['ret'] * lstm_book_df['position'].shift(1)\n",
    "lstm_book_df['lstm_cumret'] = (lstm_book_df['lstm_ret'] + 1).cumprod()\n",
    "lstm_book_df['bm_cumret'] = (lstm_book_df['ret'] + 1).cumprod()\n",
    "lstm_book_df[['lstm_cumret','bm_cumret']].plot()"
   ]
  },
  {
   "cell_type": "code",
   "execution_count": 1,
   "metadata": {},
   "outputs": [
    {
     "name": "stdout",
     "output_type": "stream",
     "text": [
      "A\n"
     ]
    }
   ],
   "source": [
    "print('A')"
   ]
  },
  {
   "cell_type": "code",
   "execution_count": null,
   "metadata": {},
   "outputs": [],
   "source": []
  }
 ],
 "metadata": {
  "kernelspec": {
   "display_name": "Python 3",
   "language": "python",
   "name": "python3"
  },
  "language_info": {
   "codemirror_mode": {
    "name": "ipython",
    "version": 3
   },
   "file_extension": ".py",
   "mimetype": "text/x-python",
   "name": "python",
   "nbconvert_exporter": "python",
   "pygments_lexer": "ipython3",
   "version": "3.6.9"
  }
 },
 "nbformat": 4,
 "nbformat_minor": 4
}

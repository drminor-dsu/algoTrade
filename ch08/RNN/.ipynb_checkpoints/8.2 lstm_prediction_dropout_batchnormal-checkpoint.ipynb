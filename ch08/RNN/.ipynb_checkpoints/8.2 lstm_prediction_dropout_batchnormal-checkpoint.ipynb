{
 "cells": [
  {
   "cell_type": "code",
   "execution_count": 1,
   "metadata": {},
   "outputs": [
    {
     "name": "stderr",
     "output_type": "stream",
     "text": [
      "C:\\Users\\HIT-2233\\Anaconda3\\envs\\py36\\lib\\site-packages\\pandas_datareader\\compat\\__init__.py:7: FutureWarning: pandas.util.testing is deprecated. Use the functions in the public API at pandas.testing instead.\n",
      "  from pandas.util.testing import assert_frame_equal\n"
     ]
    }
   ],
   "source": [
    "import pandas as pd \n",
    "import pandas_datareader as pdr\n",
    "import talib \n",
    "import matplotlib.pyplot as plt\n",
    "import numpy as np\n",
    "import scipy.stats as stats\n",
    "import math\n",
    "from sklearn.preprocessing import MinMaxScaler"
   ]
  },
  {
   "cell_type": "code",
   "execution_count": 3,
   "metadata": {},
   "outputs": [],
   "source": [
    "import numpy as np\n",
    "import tensorflow as tf\n",
    "import random as python_random\n",
    "\n",
    "seed_number = 7\n",
    "np.random.seed(seed_number)\n",
    "python_random.seed(seed_number)\n",
    "tf.set_random_seed(seed_number) # v1\n",
    "# tf.random.set_seed(seed_number) # v2"
   ]
  },
  {
   "cell_type": "markdown",
   "metadata": {},
   "source": [
    "## DataLoad"
   ]
  },
  {
   "cell_type": "code",
   "execution_count": 4,
   "metadata": {},
   "outputs": [],
   "source": [
    "# data Load\n",
    "df = pd.read_csv('../../data/ch08/intc.csv',\n",
    "                 index_col='Date',\n",
    "                 parse_dates=True)\n",
    "sox_df = pd.read_csv('../../data/ch08/sox_df.csv',\n",
    "                     index_col='Date',\n",
    "                     parse_dates=True)\n",
    "vix_df = pd.read_csv('../../data/ch08/vix_df.csv',\n",
    "                     index_col='Date',\n",
    "                     parse_dates=True)\n",
    "snp500_df = pd.read_csv('../../data/ch08/s&p500.csv',\n",
    "                        index_col='Date',\n",
    "                        parse_dates=True)"
   ]
  },
  {
   "cell_type": "markdown",
   "metadata": {},
   "source": [
    "## Data Features"
   ]
  },
  {
   "cell_type": "code",
   "execution_count": 5,
   "metadata": {},
   "outputs": [],
   "source": [
    "df['next_price'] = df['Adj Close'].shift(-1)\n",
    "df['next_rtn'] = df['Close'] / df['Open'] -1\n",
    "df['log_return'] = np.log(1 + df['Adj Close'].pct_change())\n",
    "df['CCI'] = talib.CCI(df['High'], df['Low'], df['Adj Close'], timeperiod=14)\n",
    "\n",
    "#1.RA : Standard deviation rolling average\n",
    "# Moving Average\n",
    "df['MA5'] = talib.SMA(df['Close'],timeperiod=5)\n",
    "df['MA10'] = talib.SMA(df['Close'],timeperiod=10)\n",
    "df['RASD5'] = talib.SMA(talib.STDDEV(df['Close'], timeperiod=5, nbdev=1),timeperiod=5)\n",
    "df['RASD10'] = talib.SMA(talib.STDDEV(df['Close'], timeperiod=5, nbdev=1),timeperiod=10)\n",
    "\n",
    "#2.MACD : Moving Average Convergence/Divergence\n",
    "macd, macdsignal, macdhist = talib.MACD(df['Close'], fastperiod=12, slowperiod=26, signalperiod=9)\n",
    "df['MACD'] = macd \n",
    "\n",
    "# Momentum Indicators\n",
    "#3.CCI : Commodity Channel Index\n",
    "df['CCI'] = talib.CCI(df['High'], df['Low'], df['Close'], timeperiod=14)\n",
    "# Volatility Indicators \n",
    "\n",
    "#4.ATR : Average True Range\n",
    "df['ATR'] = talib.ATR(df['High'], df['Low'], df['Close'], timeperiod=14)\n",
    "\n",
    "#5.BOLL : Bollinger Band\n",
    "upper, middle, lower = talib.BBANDS(df['Close'],timeperiod=20,nbdevup=2,nbdevdn=2,matype=0)\n",
    "df['ub'] = upper\n",
    "df['middle'] = middle\n",
    "df['lb'] = lower\n",
    "\n",
    "#7.MTM1 \n",
    "df['MTM1'] = talib.MOM(df['Close'], timeperiod=1)\n",
    "\n",
    "#7.MTM3\n",
    "df['MTM3'] = talib.MOM(df['Close'], timeperiod=3)\n",
    "\n",
    "#8.ROC : Rate of change : ((price/prevPrice)-1)*100\n",
    "df['ROC'] = talib.ROC(df['Close'], timeperiod=60)\n",
    "\n",
    "#9.WPR : william percent range (Williams' %R)\n",
    "df['WPR'] = talib.WILLR(df['High'], df['Low'], df['Close'], timeperiod=14)"
   ]
  },
  {
   "cell_type": "code",
   "execution_count": 6,
   "metadata": {},
   "outputs": [],
   "source": [
    "snp500_df = snp500_df.loc[:,['Close']].copy()\n",
    "snp500_df.rename(columns={'Close':'S&P500'},inplace=True)\n",
    "sox_df = sox_df.loc[:,['Close']].copy()\n",
    "sox_df.rename(columns={'Close':'SOX'},inplace=True)\n",
    "vix_df = vix_df.loc[:,['Close']].copy()\n",
    "vix_df.rename(columns={'Close':'VIX'},inplace=True)\n",
    "\n",
    "df = df.join(snp500_df,how='left')\n",
    "df = df.join(sox_df,how='left')\n",
    "df = df.join(vix_df,how='left')"
   ]
  },
  {
   "cell_type": "code",
   "execution_count": 7,
   "metadata": {},
   "outputs": [
    {
     "data": {
      "text/html": [
       "<div>\n",
       "<style scoped>\n",
       "    .dataframe tbody tr th:only-of-type {\n",
       "        vertical-align: middle;\n",
       "    }\n",
       "\n",
       "    .dataframe tbody tr th {\n",
       "        vertical-align: top;\n",
       "    }\n",
       "\n",
       "    .dataframe thead th {\n",
       "        text-align: right;\n",
       "    }\n",
       "</style>\n",
       "<table border=\"1\" class=\"dataframe\">\n",
       "  <thead>\n",
       "    <tr style=\"text-align: right;\">\n",
       "      <th></th>\n",
       "      <th>High</th>\n",
       "      <th>Low</th>\n",
       "      <th>Open</th>\n",
       "      <th>Close</th>\n",
       "      <th>Volume</th>\n",
       "      <th>Adj Close</th>\n",
       "      <th>next_price</th>\n",
       "      <th>next_rtn</th>\n",
       "      <th>log_return</th>\n",
       "      <th>CCI</th>\n",
       "      <th>...</th>\n",
       "      <th>ub</th>\n",
       "      <th>middle</th>\n",
       "      <th>lb</th>\n",
       "      <th>MTM1</th>\n",
       "      <th>MTM3</th>\n",
       "      <th>ROC</th>\n",
       "      <th>WPR</th>\n",
       "      <th>S&amp;P500</th>\n",
       "      <th>SOX</th>\n",
       "      <th>VIX</th>\n",
       "    </tr>\n",
       "    <tr>\n",
       "      <th>Date</th>\n",
       "      <th></th>\n",
       "      <th></th>\n",
       "      <th></th>\n",
       "      <th></th>\n",
       "      <th></th>\n",
       "      <th></th>\n",
       "      <th></th>\n",
       "      <th></th>\n",
       "      <th></th>\n",
       "      <th></th>\n",
       "      <th></th>\n",
       "      <th></th>\n",
       "      <th></th>\n",
       "      <th></th>\n",
       "      <th></th>\n",
       "      <th></th>\n",
       "      <th></th>\n",
       "      <th></th>\n",
       "      <th></th>\n",
       "      <th></th>\n",
       "      <th></th>\n",
       "    </tr>\n",
       "  </thead>\n",
       "  <tbody>\n",
       "    <tr>\n",
       "      <th>1999-12-31</th>\n",
       "      <td>41.9375</td>\n",
       "      <td>40.96875</td>\n",
       "      <td>41.906250</td>\n",
       "      <td>41.15625</td>\n",
       "      <td>11572000.0</td>\n",
       "      <td>26.504349</td>\n",
       "      <td>28.013699</td>\n",
       "      <td>-0.017897</td>\n",
       "      <td>NaN</td>\n",
       "      <td>NaN</td>\n",
       "      <td>...</td>\n",
       "      <td>NaN</td>\n",
       "      <td>NaN</td>\n",
       "      <td>NaN</td>\n",
       "      <td>NaN</td>\n",
       "      <td>NaN</td>\n",
       "      <td>NaN</td>\n",
       "      <td>NaN</td>\n",
       "      <td>1469.250000</td>\n",
       "      <td>704.559998</td>\n",
       "      <td>24.639999</td>\n",
       "    </tr>\n",
       "    <tr>\n",
       "      <th>2000-01-03</th>\n",
       "      <td>43.6875</td>\n",
       "      <td>41.62500</td>\n",
       "      <td>41.632812</td>\n",
       "      <td>43.50000</td>\n",
       "      <td>57710200.0</td>\n",
       "      <td>28.013699</td>\n",
       "      <td>26.705585</td>\n",
       "      <td>0.044849</td>\n",
       "      <td>0.055385</td>\n",
       "      <td>NaN</td>\n",
       "      <td>...</td>\n",
       "      <td>NaN</td>\n",
       "      <td>NaN</td>\n",
       "      <td>NaN</td>\n",
       "      <td>2.34375</td>\n",
       "      <td>NaN</td>\n",
       "      <td>NaN</td>\n",
       "      <td>NaN</td>\n",
       "      <td>1455.219971</td>\n",
       "      <td>713.200012</td>\n",
       "      <td>24.209999</td>\n",
       "    </tr>\n",
       "    <tr>\n",
       "      <th>2000-01-04</th>\n",
       "      <td>43.9375</td>\n",
       "      <td>41.12500</td>\n",
       "      <td>42.718750</td>\n",
       "      <td>41.46875</td>\n",
       "      <td>51019600.0</td>\n",
       "      <td>26.705585</td>\n",
       "      <td>26.926966</td>\n",
       "      <td>-0.029261</td>\n",
       "      <td>-0.047821</td>\n",
       "      <td>NaN</td>\n",
       "      <td>...</td>\n",
       "      <td>NaN</td>\n",
       "      <td>NaN</td>\n",
       "      <td>NaN</td>\n",
       "      <td>-2.03125</td>\n",
       "      <td>NaN</td>\n",
       "      <td>NaN</td>\n",
       "      <td>NaN</td>\n",
       "      <td>1399.420044</td>\n",
       "      <td>687.320007</td>\n",
       "      <td>27.010000</td>\n",
       "    </tr>\n",
       "    <tr>\n",
       "      <th>2000-01-05</th>\n",
       "      <td>42.9375</td>\n",
       "      <td>40.25000</td>\n",
       "      <td>41.500000</td>\n",
       "      <td>41.81250</td>\n",
       "      <td>52389000.0</td>\n",
       "      <td>26.926966</td>\n",
       "      <td>25.357227</td>\n",
       "      <td>0.007530</td>\n",
       "      <td>0.008255</td>\n",
       "      <td>NaN</td>\n",
       "      <td>...</td>\n",
       "      <td>NaN</td>\n",
       "      <td>NaN</td>\n",
       "      <td>NaN</td>\n",
       "      <td>0.34375</td>\n",
       "      <td>0.65625</td>\n",
       "      <td>NaN</td>\n",
       "      <td>NaN</td>\n",
       "      <td>1402.109985</td>\n",
       "      <td>678.539978</td>\n",
       "      <td>26.410000</td>\n",
       "    </tr>\n",
       "    <tr>\n",
       "      <th>2000-01-06</th>\n",
       "      <td>41.6875</td>\n",
       "      <td>39.09375</td>\n",
       "      <td>40.875000</td>\n",
       "      <td>39.37500</td>\n",
       "      <td>55171200.0</td>\n",
       "      <td>25.357227</td>\n",
       "      <td>26.403713</td>\n",
       "      <td>-0.036697</td>\n",
       "      <td>-0.060064</td>\n",
       "      <td>NaN</td>\n",
       "      <td>...</td>\n",
       "      <td>NaN</td>\n",
       "      <td>NaN</td>\n",
       "      <td>NaN</td>\n",
       "      <td>-2.43750</td>\n",
       "      <td>-4.12500</td>\n",
       "      <td>NaN</td>\n",
       "      <td>NaN</td>\n",
       "      <td>1403.449951</td>\n",
       "      <td>669.330017</td>\n",
       "      <td>25.730000</td>\n",
       "    </tr>\n",
       "  </tbody>\n",
       "</table>\n",
       "<p>5 rows × 26 columns</p>\n",
       "</div>"
      ],
      "text/plain": [
       "               High       Low       Open     Close      Volume  Adj Close  \\\n",
       "Date                                                                        \n",
       "1999-12-31  41.9375  40.96875  41.906250  41.15625  11572000.0  26.504349   \n",
       "2000-01-03  43.6875  41.62500  41.632812  43.50000  57710200.0  28.013699   \n",
       "2000-01-04  43.9375  41.12500  42.718750  41.46875  51019600.0  26.705585   \n",
       "2000-01-05  42.9375  40.25000  41.500000  41.81250  52389000.0  26.926966   \n",
       "2000-01-06  41.6875  39.09375  40.875000  39.37500  55171200.0  25.357227   \n",
       "\n",
       "            next_price  next_rtn  log_return  CCI  ...  ub  middle  lb  \\\n",
       "Date                                               ...                   \n",
       "1999-12-31   28.013699 -0.017897         NaN  NaN  ... NaN     NaN NaN   \n",
       "2000-01-03   26.705585  0.044849    0.055385  NaN  ... NaN     NaN NaN   \n",
       "2000-01-04   26.926966 -0.029261   -0.047821  NaN  ... NaN     NaN NaN   \n",
       "2000-01-05   25.357227  0.007530    0.008255  NaN  ... NaN     NaN NaN   \n",
       "2000-01-06   26.403713 -0.036697   -0.060064  NaN  ... NaN     NaN NaN   \n",
       "\n",
       "               MTM1     MTM3  ROC  WPR       S&P500         SOX        VIX  \n",
       "Date                                                                        \n",
       "1999-12-31      NaN      NaN  NaN  NaN  1469.250000  704.559998  24.639999  \n",
       "2000-01-03  2.34375      NaN  NaN  NaN  1455.219971  713.200012  24.209999  \n",
       "2000-01-04 -2.03125      NaN  NaN  NaN  1399.420044  687.320007  27.010000  \n",
       "2000-01-05  0.34375  0.65625  NaN  NaN  1402.109985  678.539978  26.410000  \n",
       "2000-01-06 -2.43750 -4.12500  NaN  NaN  1403.449951  669.330017  25.730000  \n",
       "\n",
       "[5 rows x 26 columns]"
      ]
     },
     "execution_count": 7,
     "metadata": {},
     "output_type": "execute_result"
    }
   ],
   "source": [
    "df.head()"
   ]
  },
  {
   "cell_type": "code",
   "execution_count": 8,
   "metadata": {},
   "outputs": [],
   "source": [
    "# feature list\n",
    "# feature_list = ['Adj Close', 'log_return', 'CCI','next_price']\n",
    "# 볼린저 밴드와 MACD를 어떻게 활용해야할까? 음. 아님 그냥 그대로 사용하는 건가?\n",
    "feature1_list = ['Open','High','Low','Adj Close','Volume','log_return']\n",
    "feature2_list = ['RASD5','RASD10','ub','lb','CCI','ATR','MACD','MA5','MA10','MTM1','MTM3','ROC','WPR']\n",
    "feature3_list = ['S&P500', 'SOX', 'VIX']\n",
    "# feature4_list = ['next_price']\n",
    "feature4_list = ['next_rtn']\n",
    "\n",
    "all_features = feature1_list + feature2_list + feature3_list + feature4_list"
   ]
  },
  {
   "cell_type": "code",
   "execution_count": 9,
   "metadata": {},
   "outputs": [],
   "source": [
    "phase_flag = '3'\n",
    "\n",
    "if phase_flag == '1' :\n",
    "    train_from = '2010-01-04'\n",
    "    train_to = '2012-01-01'\n",
    "\n",
    "    val_from = '2012-01-01'\n",
    "    val_to = '2012-04-01'\n",
    "\n",
    "    test_from = '2012-04-01'\n",
    "    test_to = '2012-07-01'\n",
    "\n",
    "elif phase_flag == '2' :\n",
    "    train_from = '2012-07-01'\n",
    "    train_to = '2014-07-01'\n",
    "\n",
    "    val_from = '2014-07-01'\n",
    "    val_to = '2014-10-01'\n",
    "\n",
    "    test_from = '2014-10-01'\n",
    "    test_to = '2015-01-01'\n",
    "    \n",
    "else : \n",
    "    train_from = '2015-01-01'\n",
    "    train_to = '2017-01-01'\n",
    "\n",
    "    val_from = '2017-01-01'\n",
    "    val_to = '2017-04-01'\n",
    "\n",
    "    test_from = '2017-04-01'\n",
    "    test_to = '2017-07-01'"
   ]
  },
  {
   "cell_type": "code",
   "execution_count": 10,
   "metadata": {},
   "outputs": [],
   "source": [
    "# train / validation / testing\n",
    "train_df  = df.loc[train_from:train_to,all_features].copy()\n",
    "val_df = df.loc[val_from:val_to,all_features].copy()\n",
    "test_df   = df.loc[test_from:test_to,all_features].copy()"
   ]
  },
  {
   "cell_type": "code",
   "execution_count": 11,
   "metadata": {},
   "outputs": [
    {
     "data": {
      "text/html": [
       "<div>\n",
       "<style scoped>\n",
       "    .dataframe tbody tr th:only-of-type {\n",
       "        vertical-align: middle;\n",
       "    }\n",
       "\n",
       "    .dataframe tbody tr th {\n",
       "        vertical-align: top;\n",
       "    }\n",
       "\n",
       "    .dataframe thead th {\n",
       "        text-align: right;\n",
       "    }\n",
       "</style>\n",
       "<table border=\"1\" class=\"dataframe\">\n",
       "  <thead>\n",
       "    <tr style=\"text-align: right;\">\n",
       "      <th></th>\n",
       "      <th>Open</th>\n",
       "      <th>High</th>\n",
       "      <th>Low</th>\n",
       "      <th>Adj Close</th>\n",
       "      <th>Volume</th>\n",
       "      <th>log_return</th>\n",
       "      <th>RASD5</th>\n",
       "      <th>RASD10</th>\n",
       "      <th>ub</th>\n",
       "      <th>lb</th>\n",
       "      <th>...</th>\n",
       "      <th>MA5</th>\n",
       "      <th>MA10</th>\n",
       "      <th>MTM1</th>\n",
       "      <th>MTM3</th>\n",
       "      <th>ROC</th>\n",
       "      <th>WPR</th>\n",
       "      <th>S&amp;P500</th>\n",
       "      <th>SOX</th>\n",
       "      <th>VIX</th>\n",
       "      <th>next_rtn</th>\n",
       "    </tr>\n",
       "    <tr>\n",
       "      <th>Date</th>\n",
       "      <th></th>\n",
       "      <th></th>\n",
       "      <th></th>\n",
       "      <th></th>\n",
       "      <th></th>\n",
       "      <th></th>\n",
       "      <th></th>\n",
       "      <th></th>\n",
       "      <th></th>\n",
       "      <th></th>\n",
       "      <th></th>\n",
       "      <th></th>\n",
       "      <th></th>\n",
       "      <th></th>\n",
       "      <th></th>\n",
       "      <th></th>\n",
       "      <th></th>\n",
       "      <th></th>\n",
       "      <th></th>\n",
       "      <th></th>\n",
       "      <th></th>\n",
       "    </tr>\n",
       "  </thead>\n",
       "  <tbody>\n",
       "    <tr>\n",
       "      <th>2015-01-02</th>\n",
       "      <td>36.669998</td>\n",
       "      <td>37.160000</td>\n",
       "      <td>36.110001</td>\n",
       "      <td>31.625349</td>\n",
       "      <td>23605600.0</td>\n",
       "      <td>0.001927</td>\n",
       "      <td>0.360369</td>\n",
       "      <td>0.422398</td>\n",
       "      <td>37.964195</td>\n",
       "      <td>35.625804</td>\n",
       "      <td>...</td>\n",
       "      <td>36.828</td>\n",
       "      <td>36.961</td>\n",
       "      <td>0.070000</td>\n",
       "      <td>-0.820000</td>\n",
       "      <td>8.634596</td>\n",
       "      <td>-57.261459</td>\n",
       "      <td>2058.199951</td>\n",
       "      <td>686.729980</td>\n",
       "      <td>17.790001</td>\n",
       "      <td>-0.008454</td>\n",
       "    </tr>\n",
       "    <tr>\n",
       "      <th>2015-01-05</th>\n",
       "      <td>36.200001</td>\n",
       "      <td>36.450001</td>\n",
       "      <td>35.939999</td>\n",
       "      <td>31.268734</td>\n",
       "      <td>32785000.0</td>\n",
       "      <td>-0.011340</td>\n",
       "      <td>0.359143</td>\n",
       "      <td>0.416504</td>\n",
       "      <td>37.902114</td>\n",
       "      <td>35.536885</td>\n",
       "      <td>...</td>\n",
       "      <td>36.508</td>\n",
       "      <td>36.854</td>\n",
       "      <td>-0.410000</td>\n",
       "      <td>-0.809998</td>\n",
       "      <td>4.902248</td>\n",
       "      <td>-74.273902</td>\n",
       "      <td>2020.579956</td>\n",
       "      <td>673.590027</td>\n",
       "      <td>19.920000</td>\n",
       "      <td>-0.006906</td>\n",
       "    </tr>\n",
       "    <tr>\n",
       "      <th>2015-01-06</th>\n",
       "      <td>36.080002</td>\n",
       "      <td>36.230000</td>\n",
       "      <td>35.259998</td>\n",
       "      <td>30.685978</td>\n",
       "      <td>30847600.0</td>\n",
       "      <td>-0.018813</td>\n",
       "      <td>0.429746</td>\n",
       "      <td>0.417354</td>\n",
       "      <td>37.855069</td>\n",
       "      <td>35.344930</td>\n",
       "      <td>...</td>\n",
       "      <td>36.128</td>\n",
       "      <td>36.745</td>\n",
       "      <td>-0.670002</td>\n",
       "      <td>-1.010002</td>\n",
       "      <td>4.937537</td>\n",
       "      <td>-99.193531</td>\n",
       "      <td>2002.609985</td>\n",
       "      <td>658.830017</td>\n",
       "      <td>21.120001</td>\n",
       "      <td>-0.022173</td>\n",
       "    </tr>\n",
       "    <tr>\n",
       "      <th>2015-01-07</th>\n",
       "      <td>35.639999</td>\n",
       "      <td>36.070000</td>\n",
       "      <td>35.270000</td>\n",
       "      <td>31.329620</td>\n",
       "      <td>27725200.0</td>\n",
       "      <td>0.020758</td>\n",
       "      <td>0.449678</td>\n",
       "      <td>0.396641</td>\n",
       "      <td>37.788620</td>\n",
       "      <td>35.293380</td>\n",
       "      <td>...</td>\n",
       "      <td>35.980</td>\n",
       "      <td>36.626</td>\n",
       "      <td>0.740002</td>\n",
       "      <td>-0.340000</td>\n",
       "      <td>12.879977</td>\n",
       "      <td>-69.354794</td>\n",
       "      <td>2025.900024</td>\n",
       "      <td>665.270020</td>\n",
       "      <td>19.309999</td>\n",
       "      <td>0.010662</td>\n",
       "    </tr>\n",
       "    <tr>\n",
       "      <th>2015-01-08</th>\n",
       "      <td>36.369999</td>\n",
       "      <td>37.000000</td>\n",
       "      <td>36.259998</td>\n",
       "      <td>31.912374</td>\n",
       "      <td>31765400.0</td>\n",
       "      <td>0.018430</td>\n",
       "      <td>0.450896</td>\n",
       "      <td>0.396890</td>\n",
       "      <td>37.770449</td>\n",
       "      <td>35.291550</td>\n",
       "      <td>...</td>\n",
       "      <td>36.060</td>\n",
       "      <td>36.552</td>\n",
       "      <td>0.669998</td>\n",
       "      <td>0.739998</td>\n",
       "      <td>16.587224</td>\n",
       "      <td>-42.338775</td>\n",
       "      <td>2062.139893</td>\n",
       "      <td>684.650024</td>\n",
       "      <td>17.010000</td>\n",
       "      <td>0.008798</td>\n",
       "    </tr>\n",
       "  </tbody>\n",
       "</table>\n",
       "<p>5 rows × 23 columns</p>\n",
       "</div>"
      ],
      "text/plain": [
       "                 Open       High        Low  Adj Close      Volume  \\\n",
       "Date                                                                 \n",
       "2015-01-02  36.669998  37.160000  36.110001  31.625349  23605600.0   \n",
       "2015-01-05  36.200001  36.450001  35.939999  31.268734  32785000.0   \n",
       "2015-01-06  36.080002  36.230000  35.259998  30.685978  30847600.0   \n",
       "2015-01-07  35.639999  36.070000  35.270000  31.329620  27725200.0   \n",
       "2015-01-08  36.369999  37.000000  36.259998  31.912374  31765400.0   \n",
       "\n",
       "            log_return     RASD5    RASD10         ub         lb  ...     MA5  \\\n",
       "Date                                                              ...           \n",
       "2015-01-02    0.001927  0.360369  0.422398  37.964195  35.625804  ...  36.828   \n",
       "2015-01-05   -0.011340  0.359143  0.416504  37.902114  35.536885  ...  36.508   \n",
       "2015-01-06   -0.018813  0.429746  0.417354  37.855069  35.344930  ...  36.128   \n",
       "2015-01-07    0.020758  0.449678  0.396641  37.788620  35.293380  ...  35.980   \n",
       "2015-01-08    0.018430  0.450896  0.396890  37.770449  35.291550  ...  36.060   \n",
       "\n",
       "              MA10      MTM1      MTM3        ROC        WPR       S&P500  \\\n",
       "Date                                                                        \n",
       "2015-01-02  36.961  0.070000 -0.820000   8.634596 -57.261459  2058.199951   \n",
       "2015-01-05  36.854 -0.410000 -0.809998   4.902248 -74.273902  2020.579956   \n",
       "2015-01-06  36.745 -0.670002 -1.010002   4.937537 -99.193531  2002.609985   \n",
       "2015-01-07  36.626  0.740002 -0.340000  12.879977 -69.354794  2025.900024   \n",
       "2015-01-08  36.552  0.669998  0.739998  16.587224 -42.338775  2062.139893   \n",
       "\n",
       "                   SOX        VIX  next_rtn  \n",
       "Date                                         \n",
       "2015-01-02  686.729980  17.790001 -0.008454  \n",
       "2015-01-05  673.590027  19.920000 -0.006906  \n",
       "2015-01-06  658.830017  21.120001 -0.022173  \n",
       "2015-01-07  665.270020  19.309999  0.010662  \n",
       "2015-01-08  684.650024  17.010000  0.008798  \n",
       "\n",
       "[5 rows x 23 columns]"
      ]
     },
     "execution_count": 11,
     "metadata": {},
     "output_type": "execute_result"
    }
   ],
   "source": [
    "train_df.head()"
   ]
  },
  {
   "cell_type": "code",
   "execution_count": 12,
   "metadata": {},
   "outputs": [],
   "source": [
    "def min_max_normal(tmp_df):\n",
    "    eng_list = []\n",
    "    sample_df = tmp_df.copy()\n",
    "    for x in all_features:\n",
    "        if x in feature4_list :\n",
    "            continue\n",
    "        series = sample_df[x].copy()\n",
    "        values = series.values\n",
    "        values = values.reshape((len(values), 1))\n",
    "        # train the normalization\n",
    "        scaler = MinMaxScaler(feature_range=(0, 1))\n",
    "        scaler = scaler.fit(values)\n",
    "#         print('columns : %s , Min: %f, Max: %f' % (x, scaler.data_min_, scaler.data_max_))\n",
    "        # normalize the dataset and print\n",
    "        normalized = scaler.transform(values)\n",
    "        new_feature = '{}_normal'.format(x)\n",
    "        eng_list.append(new_feature)\n",
    "        sample_df[new_feature] = normalized\n",
    "    return sample_df, eng_list"
   ]
  },
  {
   "cell_type": "code",
   "execution_count": 13,
   "metadata": {},
   "outputs": [],
   "source": [
    "train_sample_df, eng_list =  min_max_normal(train_df)\n",
    "val_sample_df, eng_list =  min_max_normal(val_df)\n",
    "test_sample_df, eng_list = min_max_normal(test_df)"
   ]
  },
  {
   "cell_type": "code",
   "execution_count": 14,
   "metadata": {},
   "outputs": [
    {
     "data": {
      "text/html": [
       "<div>\n",
       "<style scoped>\n",
       "    .dataframe tbody tr th:only-of-type {\n",
       "        vertical-align: middle;\n",
       "    }\n",
       "\n",
       "    .dataframe tbody tr th {\n",
       "        vertical-align: top;\n",
       "    }\n",
       "\n",
       "    .dataframe thead th {\n",
       "        text-align: right;\n",
       "    }\n",
       "</style>\n",
       "<table border=\"1\" class=\"dataframe\">\n",
       "  <thead>\n",
       "    <tr style=\"text-align: right;\">\n",
       "      <th></th>\n",
       "      <th>Open</th>\n",
       "      <th>High</th>\n",
       "      <th>Low</th>\n",
       "      <th>Adj Close</th>\n",
       "      <th>Volume</th>\n",
       "      <th>log_return</th>\n",
       "      <th>RASD5</th>\n",
       "      <th>RASD10</th>\n",
       "      <th>ub</th>\n",
       "      <th>lb</th>\n",
       "      <th>...</th>\n",
       "      <th>MACD_normal</th>\n",
       "      <th>MA5_normal</th>\n",
       "      <th>MA10_normal</th>\n",
       "      <th>MTM1_normal</th>\n",
       "      <th>MTM3_normal</th>\n",
       "      <th>ROC_normal</th>\n",
       "      <th>WPR_normal</th>\n",
       "      <th>S&amp;P500_normal</th>\n",
       "      <th>SOX_normal</th>\n",
       "      <th>VIX_normal</th>\n",
       "    </tr>\n",
       "    <tr>\n",
       "      <th>Date</th>\n",
       "      <th></th>\n",
       "      <th></th>\n",
       "      <th></th>\n",
       "      <th></th>\n",
       "      <th></th>\n",
       "      <th></th>\n",
       "      <th></th>\n",
       "      <th></th>\n",
       "      <th></th>\n",
       "      <th></th>\n",
       "      <th></th>\n",
       "      <th></th>\n",
       "      <th></th>\n",
       "      <th></th>\n",
       "      <th></th>\n",
       "      <th></th>\n",
       "      <th></th>\n",
       "      <th></th>\n",
       "      <th></th>\n",
       "      <th></th>\n",
       "      <th></th>\n",
       "    </tr>\n",
       "  </thead>\n",
       "  <tbody>\n",
       "    <tr>\n",
       "      <th>2015-01-02</th>\n",
       "      <td>36.669998</td>\n",
       "      <td>37.160000</td>\n",
       "      <td>36.110001</td>\n",
       "      <td>31.625349</td>\n",
       "      <td>23605600.0</td>\n",
       "      <td>0.001927</td>\n",
       "      <td>0.360369</td>\n",
       "      <td>0.422398</td>\n",
       "      <td>37.964195</td>\n",
       "      <td>35.625804</td>\n",
       "      <td>...</td>\n",
       "      <td>0.611705</td>\n",
       "      <td>0.900729</td>\n",
       "      <td>0.926549</td>\n",
       "      <td>0.622449</td>\n",
       "      <td>0.408772</td>\n",
       "      <td>0.624169</td>\n",
       "      <td>0.427385</td>\n",
       "      <td>0.517622</td>\n",
       "      <td>0.335631</td>\n",
       "      <td>0.221242</td>\n",
       "    </tr>\n",
       "    <tr>\n",
       "      <th>2015-01-05</th>\n",
       "      <td>36.200001</td>\n",
       "      <td>36.450001</td>\n",
       "      <td>35.939999</td>\n",
       "      <td>31.268734</td>\n",
       "      <td>32785000.0</td>\n",
       "      <td>-0.011340</td>\n",
       "      <td>0.359143</td>\n",
       "      <td>0.416504</td>\n",
       "      <td>37.902114</td>\n",
       "      <td>35.536885</td>\n",
       "      <td>...</td>\n",
       "      <td>0.576726</td>\n",
       "      <td>0.872265</td>\n",
       "      <td>0.916140</td>\n",
       "      <td>0.524490</td>\n",
       "      <td>0.410527</td>\n",
       "      <td>0.552398</td>\n",
       "      <td>0.257261</td>\n",
       "      <td>0.432631</td>\n",
       "      <td>0.301055</td>\n",
       "      <td>0.293519</td>\n",
       "    </tr>\n",
       "    <tr>\n",
       "      <th>2015-01-06</th>\n",
       "      <td>36.080002</td>\n",
       "      <td>36.230000</td>\n",
       "      <td>35.259998</td>\n",
       "      <td>30.685978</td>\n",
       "      <td>30847600.0</td>\n",
       "      <td>-0.018813</td>\n",
       "      <td>0.429746</td>\n",
       "      <td>0.417354</td>\n",
       "      <td>37.855069</td>\n",
       "      <td>35.344930</td>\n",
       "      <td>...</td>\n",
       "      <td>0.526877</td>\n",
       "      <td>0.838463</td>\n",
       "      <td>0.905536</td>\n",
       "      <td>0.471428</td>\n",
       "      <td>0.375438</td>\n",
       "      <td>0.553077</td>\n",
       "      <td>0.008065</td>\n",
       "      <td>0.392034</td>\n",
       "      <td>0.262216</td>\n",
       "      <td>0.334238</td>\n",
       "    </tr>\n",
       "    <tr>\n",
       "      <th>2015-01-07</th>\n",
       "      <td>35.639999</td>\n",
       "      <td>36.070000</td>\n",
       "      <td>35.270000</td>\n",
       "      <td>31.329620</td>\n",
       "      <td>27725200.0</td>\n",
       "      <td>0.020758</td>\n",
       "      <td>0.449678</td>\n",
       "      <td>0.396641</td>\n",
       "      <td>37.788620</td>\n",
       "      <td>35.293380</td>\n",
       "      <td>...</td>\n",
       "      <td>0.511096</td>\n",
       "      <td>0.825298</td>\n",
       "      <td>0.893959</td>\n",
       "      <td>0.759184</td>\n",
       "      <td>0.492983</td>\n",
       "      <td>0.705804</td>\n",
       "      <td>0.306452</td>\n",
       "      <td>0.444650</td>\n",
       "      <td>0.279162</td>\n",
       "      <td>0.272820</td>\n",
       "    </tr>\n",
       "    <tr>\n",
       "      <th>2015-01-08</th>\n",
       "      <td>36.369999</td>\n",
       "      <td>37.000000</td>\n",
       "      <td>36.259998</td>\n",
       "      <td>31.912374</td>\n",
       "      <td>31765400.0</td>\n",
       "      <td>0.018430</td>\n",
       "      <td>0.450896</td>\n",
       "      <td>0.396890</td>\n",
       "      <td>37.770449</td>\n",
       "      <td>35.291550</td>\n",
       "      <td>...</td>\n",
       "      <td>0.519944</td>\n",
       "      <td>0.832414</td>\n",
       "      <td>0.886759</td>\n",
       "      <td>0.744898</td>\n",
       "      <td>0.682456</td>\n",
       "      <td>0.777092</td>\n",
       "      <td>0.576612</td>\n",
       "      <td>0.526523</td>\n",
       "      <td>0.330158</td>\n",
       "      <td>0.194774</td>\n",
       "    </tr>\n",
       "  </tbody>\n",
       "</table>\n",
       "<p>5 rows × 45 columns</p>\n",
       "</div>"
      ],
      "text/plain": [
       "                 Open       High        Low  Adj Close      Volume  \\\n",
       "Date                                                                 \n",
       "2015-01-02  36.669998  37.160000  36.110001  31.625349  23605600.0   \n",
       "2015-01-05  36.200001  36.450001  35.939999  31.268734  32785000.0   \n",
       "2015-01-06  36.080002  36.230000  35.259998  30.685978  30847600.0   \n",
       "2015-01-07  35.639999  36.070000  35.270000  31.329620  27725200.0   \n",
       "2015-01-08  36.369999  37.000000  36.259998  31.912374  31765400.0   \n",
       "\n",
       "            log_return     RASD5    RASD10         ub         lb  ...  \\\n",
       "Date                                                              ...   \n",
       "2015-01-02    0.001927  0.360369  0.422398  37.964195  35.625804  ...   \n",
       "2015-01-05   -0.011340  0.359143  0.416504  37.902114  35.536885  ...   \n",
       "2015-01-06   -0.018813  0.429746  0.417354  37.855069  35.344930  ...   \n",
       "2015-01-07    0.020758  0.449678  0.396641  37.788620  35.293380  ...   \n",
       "2015-01-08    0.018430  0.450896  0.396890  37.770449  35.291550  ...   \n",
       "\n",
       "            MACD_normal  MA5_normal  MA10_normal  MTM1_normal  MTM3_normal  \\\n",
       "Date                                                                         \n",
       "2015-01-02     0.611705    0.900729     0.926549     0.622449     0.408772   \n",
       "2015-01-05     0.576726    0.872265     0.916140     0.524490     0.410527   \n",
       "2015-01-06     0.526877    0.838463     0.905536     0.471428     0.375438   \n",
       "2015-01-07     0.511096    0.825298     0.893959     0.759184     0.492983   \n",
       "2015-01-08     0.519944    0.832414     0.886759     0.744898     0.682456   \n",
       "\n",
       "            ROC_normal  WPR_normal  S&P500_normal  SOX_normal  VIX_normal  \n",
       "Date                                                                       \n",
       "2015-01-02    0.624169    0.427385       0.517622    0.335631    0.221242  \n",
       "2015-01-05    0.552398    0.257261       0.432631    0.301055    0.293519  \n",
       "2015-01-06    0.553077    0.008065       0.392034    0.262216    0.334238  \n",
       "2015-01-07    0.705804    0.306452       0.444650    0.279162    0.272820  \n",
       "2015-01-08    0.777092    0.576612       0.526523    0.330158    0.194774  \n",
       "\n",
       "[5 rows x 45 columns]"
      ]
     },
     "execution_count": 14,
     "metadata": {},
     "output_type": "execute_result"
    }
   ],
   "source": [
    "train_sample_df.head()"
   ]
  },
  {
   "cell_type": "markdown",
   "metadata": {},
   "source": [
    "### LSTM Model 훈련데이터 구분하기"
   ]
  },
  {
   "cell_type": "code",
   "execution_count": 15,
   "metadata": {},
   "outputs": [],
   "source": [
    "num_step = 5\n",
    "num_unit = 200"
   ]
  },
  {
   "cell_type": "code",
   "execution_count": 16,
   "metadata": {},
   "outputs": [],
   "source": [
    "def create_dateset_binary(data, feature_list, step, n):\n",
    "    '''\n",
    "    다음날 시종가 수익률 라벨링.\n",
    "    '''\n",
    "    train_xdata = np.array(data[feature_list[0:n]])\n",
    "    \n",
    "    # 가장 뒤 n step을 제외하기 위해. 왜냐하면 학습 input으로는 어차피 10개만 주려고 하니깐.\n",
    "    m = np.arange(len(train_xdata) - step)\n",
    "    #     np.random.shuffle(m)  # shufflee은 빼자.\n",
    "    x, y = [], []\n",
    "    for i in m:\n",
    "        a = train_xdata[i:(i+step)]\n",
    "        x.append(a)\n",
    "    x_batch = np.reshape(np.array(x), (len(m), step, n))\n",
    "    \n",
    "    train_ydata = np.array(data[[feature_list[n]]])\n",
    "    # n_step 이상부터 답을 사용할 수 있는거니깐. \n",
    "    for i in m + step :\n",
    "        next_rtn = train_ydata[i][0]\n",
    "        if next_rtn > 0 :\n",
    "            label = 1\n",
    "        else :\n",
    "            label = 0\n",
    "        y.append(label)\n",
    "    y_batch = np.reshape(np.array(y), (-1,1))\n",
    "    return x_batch, y_batch"
   ]
  },
  {
   "cell_type": "code",
   "execution_count": 17,
   "metadata": {},
   "outputs": [],
   "source": [
    "eng_list = eng_list + feature4_list\n",
    "n_feature = len(eng_list)-1\n",
    "# LSTM할때 사용했던 소스코드.\n",
    "x_train, y_train = create_dateset_binary(train_sample_df[eng_list], eng_list, num_step, n_feature)\n",
    "x_val, y_val = create_dateset_binary(val_sample_df[eng_list], eng_list, num_step, n_feature)\n",
    "x_test, y_test = create_dateset_binary(test_sample_df[eng_list], eng_list, num_step, n_feature)"
   ]
  },
  {
   "cell_type": "code",
   "execution_count": 18,
   "metadata": {},
   "outputs": [],
   "source": [
    "from tensorflow.keras.utils import to_categorical\n",
    "\n",
    "y_train = to_categorical(y_train, 2)\n",
    "y_val = to_categorical(y_val, 2)\n",
    "y_test = to_categorical(y_test, 2)"
   ]
  },
  {
   "cell_type": "code",
   "execution_count": 19,
   "metadata": {},
   "outputs": [
    {
     "name": "stdout",
     "output_type": "stream",
     "text": [
      "0    229.0\n",
      "1    270.0\n",
      "dtype: float32\n",
      "0    29.0\n",
      "1    28.0\n",
      "dtype: float32\n",
      "0    31.0\n",
      "1    27.0\n",
      "dtype: float32\n"
     ]
    }
   ],
   "source": [
    "print(pd.DataFrame(y_train).sum())\n",
    "print(pd.DataFrame(y_val).sum())\n",
    "print(pd.DataFrame(y_test).sum())"
   ]
  },
  {
   "cell_type": "markdown",
   "metadata": {},
   "source": [
    "### 모델을 수정해보자 Keras로 "
   ]
  },
  {
   "cell_type": "code",
   "execution_count": 20,
   "metadata": {},
   "outputs": [
    {
     "data": {
      "text/plain": [
       "5"
      ]
     },
     "execution_count": 20,
     "metadata": {},
     "output_type": "execute_result"
    }
   ],
   "source": [
    "x_train.shape[1]\n",
    "# 이것은 전체 데이터를 242 rolling , 10 window, 2개 feature를 본다는 것이다.\n",
    "# 2개 feature를 10개 묶음으로 보는데, 1칸씩 미루면서 보니 242개 데이터를 본다는 것이다."
   ]
  },
  {
   "cell_type": "code",
   "execution_count": 21,
   "metadata": {},
   "outputs": [],
   "source": [
    "from tensorflow.keras.models import Model\n",
    "from tensorflow.keras.models import load_model\n",
    "from tensorflow.keras.layers import Input, Dense, LSTM\n",
    "from tensorflow.keras.layers import Activation, BatchNormalization\n",
    "from tensorflow.keras.layers import Dropout\n",
    "from tensorflow.keras import backend as K\n",
    "from tensorflow.keras import regularizers"
   ]
  },
  {
   "cell_type": "code",
   "execution_count": 22,
   "metadata": {},
   "outputs": [
    {
     "name": "stdout",
     "output_type": "stream",
     "text": [
      "WARNING:tensorflow:From C:\\Users\\HIT-2233\\Anaconda3\\envs\\py36\\lib\\site-packages\\tensorflow_core\\python\\ops\\resource_variable_ops.py:1630: calling BaseResourceVariable.__init__ (from tensorflow.python.ops.resource_variable_ops) with constraint is deprecated and will be removed in a future version.\n",
      "Instructions for updating:\n",
      "If using Keras pass *_constraint arguments to layers.\n"
     ]
    }
   ],
   "source": [
    "# LSTM 모델을 생성한다.\n",
    "K.clear_session()\n",
    "input_layer = Input(batch_shape=(None, x_train.shape[1], x_train.shape[2]))\n",
    "layer_lstm_1 = LSTM(num_unit, return_sequences = True, recurrent_regularizer = regularizers.l2(0.01))(input_layer)\n",
    "layer_lstm_1 = BatchNormalization()(layer_lstm_1)\n",
    "layer_lstm_2 = LSTM(num_unit, return_sequences = True, recurrent_regularizer = regularizers.l2(0.01))(layer_lstm_1)\n",
    "layer_lstm_2 = Dropout(0.25)(layer_lstm_2)\n",
    "layer_lstm_3 = LSTM(num_unit, return_sequences = True, recurrent_regularizer = regularizers.l2(0.01))(layer_lstm_2)\n",
    "layer_lstm_3 = BatchNormalization()(layer_lstm_3)\n",
    "layer_lstm_4 = LSTM(num_unit, return_sequences = True, recurrent_regularizer = regularizers.l2(0.01))(layer_lstm_3)\n",
    "layer_lstm_4 = Dropout(0.25)(layer_lstm_4)\n",
    "layer_lstm_5 = LSTM(num_unit , recurrent_regularizer = regularizers.l2(0.01))(layer_lstm_4)\n",
    "layer_lstm_5 = BatchNormalization()(layer_lstm_5)\n",
    "output_layer = Dense(2, activation='sigmoid')(layer_lstm_5)\n",
    "\n",
    "model = Model(input_layer, output_layer)\n",
    "model.compile(loss='categorical_crossentropy',optimizer='adam', metrics=['accuracy'])"
   ]
  },
  {
   "cell_type": "code",
   "execution_count": 23,
   "metadata": {},
   "outputs": [
    {
     "name": "stdout",
     "output_type": "stream",
     "text": [
      "Model: \"model\"\n",
      "_________________________________________________________________\n",
      "Layer (type)                 Output Shape              Param #   \n",
      "=================================================================\n",
      "input_1 (InputLayer)         [(None, 5, 22)]           0         \n",
      "_________________________________________________________________\n",
      "lstm (LSTM)                  (None, 5, 200)            178400    \n",
      "_________________________________________________________________\n",
      "batch_normalization (BatchNo (None, 5, 200)            800       \n",
      "_________________________________________________________________\n",
      "lstm_1 (LSTM)                (None, 5, 200)            320800    \n",
      "_________________________________________________________________\n",
      "dropout (Dropout)            (None, 5, 200)            0         \n",
      "_________________________________________________________________\n",
      "lstm_2 (LSTM)                (None, 5, 200)            320800    \n",
      "_________________________________________________________________\n",
      "batch_normalization_1 (Batch (None, 5, 200)            800       \n",
      "_________________________________________________________________\n",
      "lstm_3 (LSTM)                (None, 5, 200)            320800    \n",
      "_________________________________________________________________\n",
      "dropout_1 (Dropout)          (None, 5, 200)            0         \n",
      "_________________________________________________________________\n",
      "lstm_4 (LSTM)                (None, 200)               320800    \n",
      "_________________________________________________________________\n",
      "batch_normalization_2 (Batch (None, 200)               800       \n",
      "_________________________________________________________________\n",
      "dense (Dense)                (None, 2)                 402       \n",
      "=================================================================\n",
      "Total params: 1,464,402\n",
      "Trainable params: 1,463,202\n",
      "Non-trainable params: 1,200\n",
      "_________________________________________________________________\n",
      "None\n"
     ]
    }
   ],
   "source": [
    "print(model.summary())"
   ]
  },
  {
   "cell_type": "markdown",
   "metadata": {},
   "source": [
    "https://ratsgo.github.io/natural%20language%20processing/2017/03/09/rnnlstm/\n",
    "이 말인 즉슨 LSTM이 자체 gate 별 활성화 함수를 갖고있다."
   ]
  },
  {
   "cell_type": "code",
   "execution_count": 24,
   "metadata": {},
   "outputs": [
    {
     "data": {
      "text/plain": [
       "(57, 2)"
      ]
     },
     "execution_count": 24,
     "metadata": {},
     "output_type": "execute_result"
    }
   ],
   "source": [
    "y_val.shape"
   ]
  },
  {
   "cell_type": "code",
   "execution_count": 25,
   "metadata": {},
   "outputs": [
    {
     "name": "stdout",
     "output_type": "stream",
     "text": [
      "WARNING:tensorflow:From C:\\Users\\HIT-2233\\Anaconda3\\envs\\py36\\lib\\site-packages\\tensorflow_core\\python\\ops\\math_grad.py:1424: where (from tensorflow.python.ops.array_ops) is deprecated and will be removed in a future version.\n",
      "Instructions for updating:\n",
      "Use tf.where in 2.0, which has the same broadcast rule as np.where\n",
      "Train on 499 samples, validate on 57 samples\n",
      "Epoch 1/20\n",
      "499/499 [==============================] - 6s 12ms/sample - loss: 5.7334 - acc: 0.4629 - val_loss: 2.5321 - val_acc: 0.4912\n",
      "Epoch 2/20\n",
      "499/499 [==============================] - 2s 5ms/sample - loss: 1.7009 - acc: 0.5190 - val_loss: 1.1404 - val_acc: 0.4912\n",
      "Epoch 3/20\n",
      "499/499 [==============================] - 2s 5ms/sample - loss: 0.9751 - acc: 0.5471 - val_loss: 0.8334 - val_acc: 0.5789\n",
      "Epoch 4/20\n",
      "499/499 [==============================] - 2s 5ms/sample - loss: 0.8098 - acc: 0.5411 - val_loss: 0.7443 - val_acc: 0.5614\n",
      "Epoch 5/20\n",
      "499/499 [==============================] - 2s 5ms/sample - loss: 0.7331 - acc: 0.5491 - val_loss: 0.7205 - val_acc: 0.5439\n",
      "Epoch 6/20\n",
      "499/499 [==============================] - 2s 5ms/sample - loss: 0.7324 - acc: 0.5130 - val_loss: 0.7074 - val_acc: 0.4737\n",
      "Epoch 7/20\n",
      "499/499 [==============================] - 3s 6ms/sample - loss: 0.7088 - acc: 0.5190 - val_loss: 0.6860 - val_acc: 0.5439\n",
      "Epoch 8/20\n",
      "499/499 [==============================] - 2s 5ms/sample - loss: 0.7005 - acc: 0.5210 - val_loss: 0.7049 - val_acc: 0.4912\n",
      "Epoch 9/20\n",
      "499/499 [==============================] - 2s 5ms/sample - loss: 0.6861 - acc: 0.5872 - val_loss: 0.7256 - val_acc: 0.4737\n",
      "Epoch 10/20\n",
      "499/499 [==============================] - 3s 6ms/sample - loss: 0.6973 - acc: 0.5872 - val_loss: 0.7362 - val_acc: 0.5088\n",
      "Epoch 11/20\n",
      "499/499 [==============================] - 3s 5ms/sample - loss: 0.7035 - acc: 0.5551 - val_loss: 0.7009 - val_acc: 0.5088\n",
      "Epoch 12/20\n",
      "499/499 [==============================] - 2s 5ms/sample - loss: 0.6935 - acc: 0.5872 - val_loss: 0.7548 - val_acc: 0.4737\n",
      "Epoch 13/20\n",
      "499/499 [==============================] - 2s 5ms/sample - loss: 0.6941 - acc: 0.5431 - val_loss: 0.7069 - val_acc: 0.5263\n",
      "Epoch 14/20\n",
      "499/499 [==============================] - 3s 5ms/sample - loss: 0.6933 - acc: 0.5932 - val_loss: 0.7414 - val_acc: 0.5439\n",
      "Epoch 15/20\n",
      "499/499 [==============================] - 2s 5ms/sample - loss: 0.6974 - acc: 0.5551 - val_loss: 0.7280 - val_acc: 0.5614\n",
      "Epoch 16/20\n",
      "499/499 [==============================] - 3s 6ms/sample - loss: 0.6971 - acc: 0.5711 - val_loss: 0.8218 - val_acc: 0.5088\n",
      "Epoch 17/20\n",
      "499/499 [==============================] - 4s 8ms/sample - loss: 0.6912 - acc: 0.5772 - val_loss: 0.7078 - val_acc: 0.5614\n",
      "Epoch 18/20\n",
      "499/499 [==============================] - 3s 6ms/sample - loss: 0.6893 - acc: 0.5691 - val_loss: 0.7089 - val_acc: 0.4737\n",
      "Epoch 19/20\n",
      "499/499 [==============================] - 3s 5ms/sample - loss: 0.6926 - acc: 0.5671 - val_loss: 0.7254 - val_acc: 0.5088\n",
      "Epoch 20/20\n",
      "499/499 [==============================] - 3s 6ms/sample - loss: 0.6875 - acc: 0.5591 - val_loss: 0.7673 - val_acc: 0.5614\n"
     ]
    }
   ],
   "source": [
    "history = model.fit(x_train,y_train,epochs=20, batch_size=10, validation_data=(x_val, y_val))"
   ]
  },
  {
   "cell_type": "code",
   "execution_count": 26,
   "metadata": {},
   "outputs": [],
   "source": [
    "def plot_history(history):\n",
    "    plt.figure(figsize=(15, 5))\n",
    "    ax = plt.subplot(1, 2, 1)\n",
    "    plt.plot(history.history[\"loss\"])\n",
    "    plt.title(\"Train loss\")\n",
    "    ax = plt.subplot(1, 2, 2)\n",
    "    plt.plot(history.history[\"val_loss\"])\n",
    "    plt.title(\"Test loss\")\n",
    "    plt.savefig('sample.png')"
   ]
  },
  {
   "cell_type": "code",
   "execution_count": 27,
   "metadata": {},
   "outputs": [
    {
     "data": {
      "image/png": "[encoded data removed]",
      "text/plain": [
       "<Figure size 1080x360 with 2 Axes>"
      ]
     },
     "metadata": {
      "needs_background": "light"
     },
     "output_type": "display_data"
    }
   ],
   "source": [
    "plot_history(history) # 3단계"
   ]
  },
  {
   "cell_type": "code",
   "execution_count": 26,
   "metadata": {},
   "outputs": [],
   "source": [
    "# model.save('model_functional_open_close_binary_phase3.h5')"
   ]
  },
  {
   "cell_type": "markdown",
   "metadata": {},
   "source": [
    "## 예측"
   ]
  },
  {
   "cell_type": "code",
   "execution_count": 28,
   "metadata": {},
   "outputs": [],
   "source": [
    "from sklearn.metrics import confusion_matrix\n",
    "from sklearn.metrics import classification_report"
   ]
  },
  {
   "cell_type": "code",
   "execution_count": 29,
   "metadata": {},
   "outputs": [],
   "source": [
    "predicted = model.predict(x_test)\n",
    "y_pred = np.argmax(predicted, axis=1)\n",
    "Y_test = np.argmax(y_test, axis=1)\n",
    "cm = confusion_matrix(Y_test, y_pred)\n",
    "report = classification_report(Y_test, y_pred)"
   ]
  },
  {
   "cell_type": "markdown",
   "metadata": {},
   "source": [
    "## ROC AUC 커브 만들어보기."
   ]
  },
  {
   "cell_type": "code",
   "execution_count": 30,
   "metadata": {},
   "outputs": [],
   "source": [
    "%matplotlib inline\n",
    "import matplotlib.pyplot as plt\n",
    "from sklearn.metrics import roc_curve, auc\n",
    "\n",
    "# Plot a confusion matrix.\n",
    "# cm is the confusion matrix, names are the names of the classes.\n",
    "def plot_confusion_matrix(cm, names, title='Confusion matrix', cmap=plt.cm.Blues):\n",
    "    plt.imshow(cm, interpolation='nearest', cmap=cmap)\n",
    "    plt.title(title)\n",
    "    plt.colorbar()\n",
    "    tick_marks = np.arange(len(names))\n",
    "    plt.xticks(tick_marks, names, rotation=45)\n",
    "    plt.yticks(tick_marks, names)\n",
    "    plt.tight_layout()\n",
    "    plt.ylabel('True label')\n",
    "    plt.xlabel('Predicted label')\n",
    "    \n",
    "\n",
    "# Plot an ROC. pred - the predictions, y - the expected output.\n",
    "def plot_roc(pred,y):\n",
    "    fpr, tpr, _ = roc_curve(y, pred)\n",
    "    roc_auc = auc(fpr, tpr)\n",
    "\n",
    "    plt.figure()\n",
    "    plt.plot(fpr, tpr, label='ROC curve (area = %0.2f)' % roc_auc)\n",
    "    plt.plot([0, 1], [0, 1], 'k--')\n",
    "    plt.xlim([0.0, 1.0])\n",
    "    plt.ylim([0.0, 1.05])\n",
    "    plt.xlabel('False Positive Rate')\n",
    "    plt.ylabel('True Positive Rate')\n",
    "    plt.title('Receiver Operating Characteristic (ROC)')\n",
    "    plt.legend(loc=\"lower right\")\n",
    "    plt.show()"
   ]
  },
  {
   "cell_type": "code",
   "execution_count": 31,
   "metadata": {},
   "outputs": [
    {
     "data": {
      "image/png": "[encoded data removed]",
      "text/plain": [
       "<Figure size 432x288 with 1 Axes>"
      ]
     },
     "metadata": {
      "needs_background": "light"
     },
     "output_type": "display_data"
    },
    {
     "name": "stdout",
     "output_type": "stream",
     "text": [
      "ROC AUC 값 : 0.5663\n"
     ]
    }
   ],
   "source": [
    "# 3단계\n",
    "plot_roc(y_pred,Y_test)\n",
    "from sklearn.metrics import roc_auc_score\n",
    "roc_score = roc_auc_score(Y_test,y_pred)\n",
    "print('ROC AUC 값 : {0:.4f}'.format(roc_score))"
   ]
  },
  {
   "cell_type": "markdown",
   "metadata": {},
   "source": [
    "## Drop & Batch"
   ]
  },
  {
   "cell_type": "code",
   "execution_count": 32,
   "metadata": {},
   "outputs": [
    {
     "data": {
      "text/plain": [
       "array([0, 0, 0, 1, 1, 1, 1, 1, 1, 1, 1, 1, 0, 1, 1, 1, 1, 1, 0, 1, 1, 1,\n",
       "       1, 1, 1, 0, 0, 0, 0, 0, 0, 1, 1, 0, 0, 1, 1, 1, 1, 1, 1, 1, 1, 1,\n",
       "       1, 1, 1, 0, 1, 1, 1, 1, 1, 1, 1, 0, 0, 0], dtype=int64)"
      ]
     },
     "execution_count": 32,
     "metadata": {},
     "output_type": "execute_result"
    }
   ],
   "source": [
    "y_pred # 3단계"
   ]
  },
  {
   "cell_type": "code",
   "execution_count": 33,
   "metadata": {},
   "outputs": [],
   "source": [
    "tn = cm[0][0]\n",
    "fn = cm[1][0]\n",
    "tp = cm[1][1]\n",
    "fp = cm[0][1]\n",
    "if tp == 0:\n",
    "    tp = 1\n",
    "if tn == 0:\n",
    "    tn = 1\n",
    "if fp == 0:\n",
    "    fp = 1\n",
    "if fn == 0:\n",
    "    fn = 1\n",
    "TPR = float(tp)/(float(tp)+float(fn))\n",
    "FPR = float(fp)/(float(fp)+float(tn))\n",
    "accuracy = round((float(tp) + float(tn))/(float(tp) +\n",
    "                                          float(fp) + float(fn) + float(tn)), 3)\n",
    "specitivity = round(float(tn)/(float(tn) + float(fp)), 3)\n",
    "sensitivity = round(float(tp)/(float(tp) + float(fn)), 3)\n",
    "mcc = round((float(tp)*float(tn) - float(fp)*float(fn))/math.sqrt(\n",
    "    (float(tp)+float(fp))\n",
    "    * (float(tp)+float(fn))\n",
    "    * (float(tn)+float(fp))\n",
    "    * (float(tn)+float(fn))\n",
    "), 3)\n",
    "\n",
    "f_output = open('binary_lstm_open_close_phase3_dropout_batch_Normal_3단계 test.txt', 'a')\n",
    "f_output.write('=======\\n')\n",
    "f_output.write('{}epochs_{}batch\\n'.format(\n",
    "    20, 10))\n",
    "f_output.write('TN: {}\\n'.format(tn))\n",
    "f_output.write('FN: {}\\n'.format(fn))\n",
    "f_output.write('TP: {}\\n'.format(tp))\n",
    "f_output.write('FP: {}\\n'.format(fp))\n",
    "f_output.write('TPR: {}\\n'.format(TPR))\n",
    "f_output.write('FPR: {}\\n'.format(FPR))\n",
    "f_output.write('accuracy: {}\\n'.format(accuracy))\n",
    "f_output.write('specitivity: {}\\n'.format(specitivity))\n",
    "f_output.write(\"sensitivity : {}\\n\".format(sensitivity))\n",
    "f_output.write(\"mcc : {}\\n\".format(mcc))\n",
    "f_output.write(\"{}\".format(report))\n",
    "f_output.write('=======\\n')\n",
    "f_output.close()"
   ]
  },
  {
   "cell_type": "code",
   "execution_count": 34,
   "metadata": {},
   "outputs": [
    {
     "name": "stdout",
     "output_type": "stream",
     "text": [
      "58\n",
      "58\n"
     ]
    }
   ],
   "source": [
    "# 예측.\n",
    "# y_hat = model.predict(x_test, batch_size = 1)\n",
    "print(len(y_test))\n",
    "print(len(y_pred))"
   ]
  },
  {
   "cell_type": "code",
   "execution_count": 35,
   "metadata": {},
   "outputs": [
    {
     "data": {
      "text/plain": [
       "<matplotlib.axes._subplots.AxesSubplot at 0x2b021b6a208>"
      ]
     },
     "execution_count": 35,
     "metadata": {},
     "output_type": "execute_result"
    },
    {
     "data": {
      "image/png": "[encoded data removed]",
      "text/plain": [
       "<Figure size 432x288 with 1 Axes>"
      ]
     },
     "metadata": {
      "needs_background": "light"
     },
     "output_type": "display_data"
    }
   ],
   "source": [
    "train_sample_df['Adj Close'].plot()"
   ]
  },
  {
   "cell_type": "code",
   "execution_count": 36,
   "metadata": {},
   "outputs": [
    {
     "data": {
      "text/plain": [
       "<matplotlib.axes._subplots.AxesSubplot at 0x2b0283b2550>"
      ]
     },
     "execution_count": 36,
     "metadata": {},
     "output_type": "execute_result"
    },
    {
     "data": {
      "image/png": "[encoded data removed]",
      "text/plain": [
       "<Figure size 432x288 with 1 Axes>"
      ]
     },
     "metadata": {
      "needs_background": "light"
     },
     "output_type": "display_data"
    }
   ],
   "source": [
    "test_sample_df['Adj Close'].plot()"
   ]
  },
  {
   "cell_type": "code",
   "execution_count": 37,
   "metadata": {},
   "outputs": [],
   "source": [
    "# 3단계 \n",
    "lstm_book_df = test_sample_df[['Adj Close','next_rtn']].copy()\n",
    "# ### 이 문제에 있어서 Series와 DataFrame의 차이는 뭐지?\n",
    "t1 = pd.DataFrame(data = y_pred,columns=['position'],index = lstm_book_df.index[5:])\n",
    "lstm_book_df = lstm_book_df.join(t1,how='left')\n",
    "lstm_book_df.fillna(0,inplace=True)\n",
    "lstm_book_df['ret'] = lstm_book_df['Adj Close'].pct_change()\n",
    "lstm_book_df['lstm_ret'] = lstm_book_df['next_rtn'] * lstm_book_df['position'].shift(1)\n",
    "lstm_book_df['lstm_cumret'] = (lstm_book_df['lstm_ret'] + 1).cumprod()\n",
    "lstm_book_df['bm_cumret'] = (lstm_book_df['ret'] + 1).cumprod()"
   ]
  },
  {
   "cell_type": "code",
   "execution_count": 38,
   "metadata": {},
   "outputs": [
    {
     "data": {
      "text/plain": [
       "<matplotlib.axes._subplots.AxesSubplot at 0x2b028522898>"
      ]
     },
     "execution_count": 38,
     "metadata": {},
     "output_type": "execute_result"
    },
    {
     "data": {
      "image/png": "[encoded data removed]",
      "text/plain": [
       "<Figure size 432x288 with 1 Axes>"
      ]
     },
     "metadata": {
      "needs_background": "light"
     },
     "output_type": "display_data"
    }
   ],
   "source": [
    "lstm_book_df[['lstm_cumret','bm_cumret']].plot()"
   ]
  },
  {
   "cell_type": "markdown",
   "metadata": {},
   "source": [
    "# Backtesting"
   ]
  },
  {
   "cell_type": "code",
   "execution_count": 39,
   "metadata": {},
   "outputs": [
    {
     "data": {
      "text/plain": [
       "<matplotlib.axes._subplots.AxesSubplot at 0x2b0286e25c0>"
      ]
     },
     "execution_count": 39,
     "metadata": {},
     "output_type": "execute_result"
    },
    {
     "data": {
      "image/png": "[encoded data removed]",
      "text/plain": [
       "<Figure size 432x288 with 1 Axes>"
      ]
     },
     "metadata": {
      "needs_background": "light"
     },
     "output_type": "display_data"
    }
   ],
   "source": [
    "historical_max = lstm_book_df['Adj Close'].cummax()\n",
    "daily_drawdown = lstm_book_df['Adj Close'] / historical_max - 1.0\n",
    "historical_dd = daily_drawdown.cummin()\n",
    "historical_dd.plot()"
   ]
  },
  {
   "cell_type": "markdown",
   "metadata": {},
   "source": [
    "## BM"
   ]
  },
  {
   "cell_type": "code",
   "execution_count": 40,
   "metadata": {},
   "outputs": [
    {
     "name": "stdout",
     "output_type": "stream",
     "text": [
      "CAGR :  -21.92 %\n",
      "Sharpe :  -1.62\n",
      "VOL :  14.82 %\n",
      "MDD :  9.73 %\n"
     ]
    }
   ],
   "source": [
    "CAGR = lstm_book_df.loc[lstm_book_df.index[-1],'bm_cumret'] ** (252./len(lstm_book_df.index)) -1\n",
    "Sharpe = np.mean(lstm_book_df['ret']) / np.std(lstm_book_df['ret']) * np.sqrt(252.)\n",
    "VOL = np.std(lstm_book_df['ret']) * np.sqrt(252.)\n",
    "MDD = historical_dd.min()\n",
    "print('CAGR : ',round(CAGR*100,2),'%')\n",
    "print('Sharpe : ',round(Sharpe,2))\n",
    "print('VOL : ',round(VOL*100,2),'%')\n",
    "print('MDD : ',round(-1*MDD*100,2),'%')"
   ]
  },
  {
   "cell_type": "markdown",
   "metadata": {},
   "source": [
    "## LSTM"
   ]
  },
  {
   "cell_type": "code",
   "execution_count": 41,
   "metadata": {},
   "outputs": [
    {
     "name": "stdout",
     "output_type": "stream",
     "text": [
      "CAGR :  5.29 %\n",
      "Sharpe :  0.59\n",
      "VOL :  9.61 %\n",
      "MDD :  9.73 %\n"
     ]
    }
   ],
   "source": [
    "CAGR = lstm_book_df.loc[lstm_book_df.index[-1],'lstm_cumret'] ** (252./len(lstm_book_df.index)) -1\n",
    "Sharpe = np.mean(lstm_book_df['lstm_ret']) / np.std(lstm_book_df['lstm_ret']) * np.sqrt(252.)\n",
    "VOL = np.std(lstm_book_df['lstm_ret']) * np.sqrt(252.)\n",
    "MDD = historical_dd.min()\n",
    "print('CAGR : ',round(CAGR*100,2),'%')\n",
    "print('Sharpe : ',round(Sharpe,2))\n",
    "print('VOL : ',round(VOL*100,2),'%')\n",
    "print('MDD : ',round(-1*MDD*100,2),'%')"
   ]
  },
  {
   "cell_type": "code",
   "execution_count": null,
   "metadata": {},
   "outputs": [],
   "source": []
  }
 ],
 "metadata": {
  "kernelspec": {
   "display_name": "Python 3",
   "language": "python",
   "name": "python3"
  },
  "language_info": {
   "codemirror_mode": {
    "name": "ipython",
    "version": 3
   },
   "file_extension": ".py",
   "mimetype": "text/x-python",
   "name": "python",
   "nbconvert_exporter": "python",
   "pygments_lexer": "ipython3",
   "version": "3.6.7"
  }
 },
 "nbformat": 4,
 "nbformat_minor": 4
}
